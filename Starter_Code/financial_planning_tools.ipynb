{
 "cells": [
  {
   "cell_type": "markdown",
   "metadata": {},
   "source": [
    "# Financial Planning with APIs and Simulations\n",
    "\n",
    "In this Challenge, you’ll create two financial analysis tools by using a single Jupyter notebook:\n",
    "\n",
    "Part 1: A financial planner for emergencies. The members will be able to use this tool to visualize their current savings. The members can then determine if they have enough reserves for an emergency fund.\n",
    "\n",
    "Part 2: A financial planner for retirement. This tool will forecast the performance of their retirement portfolio in 30 years. To do this, the tool will make an Alpaca API call via the Alpaca SDK to get historical price data for use in Monte Carlo simulations.\n",
    "\n",
    "You’ll use the information from the Monte Carlo simulation to answer questions about the portfolio in your Jupyter notebook.\n",
    "\n"
   ]
  },
  {
   "cell_type": "code",
   "execution_count": 62,
   "metadata": {},
   "outputs": [],
   "source": [
    "import os\n",
    "import requests\n",
    "import json\n",
    "import pandas as pd\n",
    "from dotenv import load_dotenv, find_dotenv\n",
    "import alpaca_trade_api as tradeapi\n",
    "from MCForecastTools import MCSimulation\n",
    "%matplotlib inline"
   ]
  },
  {
   "cell_type": "code",
   "execution_count": 63,
   "metadata": {},
   "outputs": [
    {
     "data": {
      "text/plain": [
       "True"
      ]
     },
     "execution_count": 63,
     "metadata": {},
     "output_type": "execute_result"
    }
   ],
   "source": [
    "load_dotenv(find_dotenv())"
   ]
  },
  {
   "cell_type": "markdown",
   "metadata": {},
   "source": [
    "## Part 1: Create a Financial Planner for Emergencies"
   ]
  },
  {
   "cell_type": "markdown",
   "metadata": {},
   "source": [
    "### Evaluate the Cryptocurrency Wallet by Using the Requests Library\n",
    "\n",
    "In this section, you’ll determine the current value of a member’s cryptocurrency wallet. You’ll collect the current prices for the Bitcoin and Ethereum cryptocurrencies by using the Python Requests library. For the prototype, you’ll assume that the member holds the 1.2 Bitcoins (BTC) and 5.3 Ethereum coins (ETH). To do all this, complete the following steps:\n",
    "\n",
    "1. Create a variable named `monthly_income`, and set its value to `12000`.\n",
    "\n",
    "2. Use the Requests library to get the current price (in US dollars) of Bitcoin (BTC) and Ethereum (ETH) by using the API endpoints that the starter code supplies.\n",
    "\n",
    "3. Navigate the JSON response object to access the current price of each coin, and store each in a variable.\n",
    "\n",
    "    > **Hint** Note the specific identifier for each cryptocurrency in the API JSON response. The Bitcoin identifier is `1`, and the Ethereum identifier is `1027`.\n",
    "\n",
    "4. Calculate the value, in US dollars, of the current amount of each cryptocurrency and of the entire cryptocurrency wallet.\n",
    "\n"
   ]
  },
  {
   "cell_type": "code",
   "execution_count": 64,
   "metadata": {},
   "outputs": [],
   "source": [
    "btc_coins = 1.2\n",
    "eth_coins = 5.3"
   ]
  },
  {
   "cell_type": "markdown",
   "metadata": {},
   "source": [
    "#### Step 1: Create a variable named `monthly_income`, and set its value to `12000`."
   ]
  },
  {
   "cell_type": "code",
   "execution_count": 65,
   "metadata": {},
   "outputs": [],
   "source": [
    "monthly_income = 12000"
   ]
  },
  {
   "cell_type": "markdown",
   "metadata": {},
   "source": [
    "#### Review the endpoint URLs for the API calls to Free Crypto API in order to get the current pricing information for both BTC and ETH."
   ]
  },
  {
   "cell_type": "code",
   "execution_count": 66,
   "metadata": {},
   "outputs": [],
   "source": [
    "btc_url = \"https://api.alternative.me/v2/ticker/Bitcoin/?convert=USD\"\n",
    "eth_url = \"https://api.alternative.me/v2/ticker/Ethereum/?convert=USD\""
   ]
  },
  {
   "cell_type": "markdown",
   "metadata": {},
   "source": [
    "#### Step 2. Use the Requests library to get the current price (in US dollars) of Bitcoin (BTC) and Ethereum (ETH) by using the API endpoints that the starter code supplied."
   ]
  },
  {
   "cell_type": "code",
   "execution_count": 67,
   "metadata": {},
   "outputs": [
    {
     "name": "stdout",
     "output_type": "stream",
     "text": [
      "{\n",
      "    \"data\": {\n",
      "        \"1\": {\n",
      "            \"circulating_supply\": 18919087,\n",
      "            \"id\": 1,\n",
      "            \"last_updated\": 1641241113,\n",
      "            \"max_supply\": 21000000,\n",
      "            \"name\": \"Bitcoin\",\n",
      "            \"quotes\": {\n",
      "                \"USD\": {\n",
      "                    \"market_cap\": 877326341156,\n",
      "                    \"percent_change_1h\": -0.636406782807844,\n",
      "                    \"percent_change_24h\": -1.58381724287494,\n",
      "                    \"percent_change_7d\": -8.8886139761797,\n",
      "                    \"percentage_change_1h\": -0.636406782807844,\n",
      "                    \"percentage_change_24h\": -1.58381724287494,\n",
      "                    \"percentage_change_7d\": -8.8886139761797,\n",
      "                    \"price\": 46333.0,\n",
      "                    \"volume_24h\": 35282207745\n",
      "                }\n",
      "            },\n",
      "            \"rank\": 1,\n",
      "            \"symbol\": \"BTC\",\n",
      "            \"total_supply\": 18919087,\n",
      "            \"website_slug\": \"bitcoin\"\n",
      "        }\n",
      "    },\n",
      "    \"metadata\": {\n",
      "        \"error\": null,\n",
      "        \"num_cryptocurrencies\": 3105,\n",
      "        \"timestamp\": 1641241113\n",
      "    }\n",
      "}\n"
     ]
    }
   ],
   "source": [
    "btc_response = requests.get(btc_url).json()\n",
    "print(json.dumps(btc_response, indent=4, sort_keys=True))"
   ]
  },
  {
   "cell_type": "code",
   "execution_count": 68,
   "metadata": {},
   "outputs": [
    {
     "name": "stdout",
     "output_type": "stream",
     "text": [
      "{\n",
      "    \"data\": {\n",
      "        \"1027\": {\n",
      "            \"circulating_supply\": 119011230,\n",
      "            \"id\": 1027,\n",
      "            \"last_updated\": 1641241107,\n",
      "            \"max_supply\": 0,\n",
      "            \"name\": \"Ethereum\",\n",
      "            \"quotes\": {\n",
      "                \"USD\": {\n",
      "                    \"market_cap\": 445483466574,\n",
      "                    \"percent_change_1h\": -0.802067539707623,\n",
      "                    \"percent_change_24h\": -1.82823659377091,\n",
      "                    \"percent_change_7d\": -8.21691549622942,\n",
      "                    \"percentage_change_1h\": -0.802067539707623,\n",
      "                    \"percentage_change_24h\": -1.82823659377091,\n",
      "                    \"percentage_change_7d\": -8.21691549622942,\n",
      "                    \"price\": 3740.19,\n",
      "                    \"volume_24h\": 15715848718\n",
      "                }\n",
      "            },\n",
      "            \"rank\": 2,\n",
      "            \"symbol\": \"ETH\",\n",
      "            \"total_supply\": 119011230,\n",
      "            \"website_slug\": \"ethereum\"\n",
      "        }\n",
      "    },\n",
      "    \"metadata\": {\n",
      "        \"error\": null,\n",
      "        \"num_cryptocurrencies\": 3105,\n",
      "        \"timestamp\": 1641241107\n",
      "    }\n",
      "}\n"
     ]
    }
   ],
   "source": [
    "eth_response = requests.get(eth_url).json()\n",
    "print(json.dumps(eth_response, indent=4, sort_keys=True))"
   ]
  },
  {
   "cell_type": "markdown",
   "metadata": {},
   "source": [
    "#### Step 3: Navigate the JSON response object to access the current price of each coin, and store each in a variable."
   ]
  },
  {
   "cell_type": "code",
   "execution_count": 69,
   "metadata": {},
   "outputs": [
    {
     "name": "stdout",
     "output_type": "stream",
     "text": [
      "Current BTC Price: $46,333.00\n"
     ]
    }
   ],
   "source": [
    "btc_price = btc_response['data']['1']['quotes']['USD']['price']\n",
    "print(f\"Current BTC Price: ${btc_price:,.2f}\")"
   ]
  },
  {
   "cell_type": "code",
   "execution_count": 70,
   "metadata": {},
   "outputs": [
    {
     "name": "stdout",
     "output_type": "stream",
     "text": [
      "Current ETH Price: $3,740.19\n"
     ]
    }
   ],
   "source": [
    "eth_price = eth_response['data']['1027']['quotes']['USD']['price']\n",
    "print(f\"Current ETH Price: ${eth_price:,.2f}\")"
   ]
  },
  {
   "cell_type": "markdown",
   "metadata": {},
   "source": [
    "### Step 4: Calculate the value, in US dollars, of the current amount of each cryptocurrency and of the entire cryptocurrency wallet."
   ]
  },
  {
   "cell_type": "code",
   "execution_count": 71,
   "metadata": {},
   "outputs": [
    {
     "name": "stdout",
     "output_type": "stream",
     "text": [
      "Current value of BTC Holding: $55,599.60\n"
     ]
    }
   ],
   "source": [
    "btc_value = btc_coins * btc_price\n",
    "print(f\"Current value of BTC Holding: ${btc_value:,.2f}\")"
   ]
  },
  {
   "cell_type": "code",
   "execution_count": 72,
   "metadata": {},
   "outputs": [
    {
     "name": "stdout",
     "output_type": "stream",
     "text": [
      "Current value of ETH Holding: $19,823.01\n"
     ]
    }
   ],
   "source": [
    "eth_value = eth_coins * eth_price\n",
    "print(f\"Current value of ETH Holding: ${eth_value:,.2f}\")"
   ]
  },
  {
   "cell_type": "code",
   "execution_count": 73,
   "metadata": {},
   "outputs": [
    {
     "name": "stdout",
     "output_type": "stream",
     "text": [
      "Total Cryptocurrency Wallet Balance: $75,422.61\n"
     ]
    }
   ],
   "source": [
    "total_crypto_wallet = btc_value + eth_value\n",
    "print(f\"Total Cryptocurrency Wallet Balance: ${total_crypto_wallet:,.2f}\")"
   ]
  },
  {
   "cell_type": "markdown",
   "metadata": {},
   "source": [
    "### Evaluate the Stock and Bond Holdings by Using the Alpaca SDK\n",
    "\n",
    "In this section, you’ll determine the current value of a member’s stock and bond holdings. You’ll make an API call to Alpaca via the Alpaca SDK to get the current closing prices of the SPDR S&P 500 ETF Trust (ticker: SPY) and of the iShares Core US Aggregate Bond ETF (ticker: AGG). For the prototype, assume that the member holds 110 shares of SPY, which represents the stock portion of their portfolio, and 200 shares of AGG, which represents the bond portion. To do all this, complete the following steps:\n",
    "\n",
    "1. In the `Starter_Code` folder, create an environment file (`.env`) to store the values of your Alpaca API key and Alpaca secret key.\n",
    "\n",
    "2. Set the variables for the Alpaca API and secret keys. Using the Alpaca SDK, create the Alpaca `tradeapi.REST` object. In this object, include the parameters for the Alpaca API key, the secret key, and the version number.\n",
    "\n",
    "3. Set the following parameters for the Alpaca API call:\n",
    "\n",
    "    - `tickers`: Use the tickers for the member’s stock and bond holdings.\n",
    "\n",
    "    - `timeframe`: Use a time frame of one day.\n",
    "\n",
    "    - `start_date` and `end_date`: Use the same date for these parameters, and format them with the date of the previous weekday (or `2020-08-07`). This is because you want the one closing price for the most-recent trading day.\n",
    "\n",
    "4. Get the current closing prices for `SPY` and `AGG` by using the Alpaca `get_barset` function. Format the response as a Pandas DataFrame by including the `df` property at the end of the `get_barset` function.\n",
    "\n",
    "5. Navigating the Alpaca response DataFrame, select the `SPY` and `AGG` closing prices, and store them as variables.\n",
    "\n",
    "6. Calculate the value, in US dollars, of the current amount of shares in each of the stock and bond portions of the portfolio, and print the results.\n"
   ]
  },
  {
   "cell_type": "markdown",
   "metadata": {},
   "source": [
    "#### Review the total number of shares held in both (SPY) and (AGG)."
   ]
  },
  {
   "cell_type": "code",
   "execution_count": 74,
   "metadata": {},
   "outputs": [],
   "source": [
    "spy_shares = 110\n",
    "agg_shares = 200"
   ]
  },
  {
   "cell_type": "markdown",
   "metadata": {},
   "source": [
    "#### Step 1: In the `Starter_Code` folder, create an environment file (`.env`) to store the values of your Alpaca API key and Alpaca secret key."
   ]
  },
  {
   "cell_type": "markdown",
   "metadata": {},
   "source": [
    "#### Step 2: Set the variables for the Alpaca API and secret keys. Using the Alpaca SDK, create the Alpaca `tradeapi.REST` object. In this object, include the parameters for the Alpaca API key, the secret key, and the version number."
   ]
  },
  {
   "cell_type": "code",
   "execution_count": 75,
   "metadata": {},
   "outputs": [],
   "source": [
    "alpaca_api_key = os.getenv('ALPACA_API_KEY')\n",
    "alpaca_secret_key = os.getenv('ALPACA_SECRET_KEY')\n",
    "\n",
    "alpaca = tradeapi.REST(\n",
    "    alpaca_api_key,\n",
    "    alpaca_secret_key,\n",
    "    api_version='v2'\n",
    ")"
   ]
  },
  {
   "cell_type": "markdown",
   "metadata": {},
   "source": [
    "#### Step 3: Set the following parameters for the Alpaca API call:\n",
    "\n",
    "- `tickers`: Use the tickers for the member’s stock and bond holdings.\n",
    "\n",
    "- `timeframe`: Use a time frame of one day.\n",
    "\n",
    "- `start_date` and `end_date`: Use the same date for these parameters, and format them with the date of the previous weekday (or `2020-08-07`). This is because you want the one closing price for the most-recent trading day.\n"
   ]
  },
  {
   "cell_type": "code",
   "execution_count": 76,
   "metadata": {},
   "outputs": [],
   "source": [
    "tickers = ['SPY', 'AGG']\n",
    "timeframe= '1D'\n",
    "start_date = pd.Timestamp('2021-12-31', tz='America/New_York').isoformat()\n",
    "end_date = pd.Timestamp('2021-12-31', tz='America/New_York').isoformat()"
   ]
  },
  {
   "cell_type": "markdown",
   "metadata": {},
   "source": [
    "#### Step 4: Get the current closing prices for `SPY` and `AGG` by using the Alpaca `get_barset` function. Format the response as a Pandas DataFrame by including the `df` property at the end of the `get_barset` function."
   ]
  },
  {
   "cell_type": "code",
   "execution_count": 77,
   "metadata": {},
   "outputs": [
    {
     "data": {
      "text/html": [
       "<div>\n",
       "<style scoped>\n",
       "    .dataframe tbody tr th:only-of-type {\n",
       "        vertical-align: middle;\n",
       "    }\n",
       "\n",
       "    .dataframe tbody tr th {\n",
       "        vertical-align: top;\n",
       "    }\n",
       "\n",
       "    .dataframe thead tr th {\n",
       "        text-align: left;\n",
       "    }\n",
       "</style>\n",
       "<table border=\"1\" class=\"dataframe\">\n",
       "  <thead>\n",
       "    <tr>\n",
       "      <th></th>\n",
       "      <th colspan=\"5\" halign=\"left\">AGG</th>\n",
       "      <th colspan=\"5\" halign=\"left\">SPY</th>\n",
       "    </tr>\n",
       "    <tr>\n",
       "      <th></th>\n",
       "      <th>open</th>\n",
       "      <th>high</th>\n",
       "      <th>low</th>\n",
       "      <th>close</th>\n",
       "      <th>volume</th>\n",
       "      <th>open</th>\n",
       "      <th>high</th>\n",
       "      <th>low</th>\n",
       "      <th>close</th>\n",
       "      <th>volume</th>\n",
       "    </tr>\n",
       "  </thead>\n",
       "  <tbody>\n",
       "    <tr>\n",
       "      <th>2021-12-31</th>\n",
       "      <td>114.15</td>\n",
       "      <td>114.31</td>\n",
       "      <td>114.06</td>\n",
       "      <td>114.09</td>\n",
       "      <td>6557778</td>\n",
       "      <td>475.64</td>\n",
       "      <td>476.86</td>\n",
       "      <td>474.67</td>\n",
       "      <td>474.89</td>\n",
       "      <td>51212452</td>\n",
       "    </tr>\n",
       "  </tbody>\n",
       "</table>\n",
       "</div>"
      ],
      "text/plain": [
       "               AGG                                      SPY                  \\\n",
       "              open    high     low   close   volume    open    high     low   \n",
       "2021-12-31  114.15  114.31  114.06  114.09  6557778  475.64  476.86  474.67   \n",
       "\n",
       "                              \n",
       "             close    volume  \n",
       "2021-12-31  474.89  51212452  "
      ]
     },
     "execution_count": 77,
     "metadata": {},
     "output_type": "execute_result"
    }
   ],
   "source": [
    "stock_prices_df = alpaca.get_barset(\n",
    "    tickers,\n",
    "    timeframe,\n",
    "    start=start_date,\n",
    "    end=end_date\n",
    ").df\n",
    "\n",
    "stock_prices_df.index = stock_prices_df.index.date\n",
    "stock_prices_df"
   ]
  },
  {
   "cell_type": "markdown",
   "metadata": {},
   "source": [
    "#### Step 5: Navigating the Alpaca response DataFrame, select the `SPY` and `AGG` closing prices, and store them as variables."
   ]
  },
  {
   "cell_type": "code",
   "execution_count": 78,
   "metadata": {},
   "outputs": [
    {
     "name": "stdout",
     "output_type": "stream",
     "text": [
      "AGG Closing Price for 2021-12-31: $114.09\n"
     ]
    }
   ],
   "source": [
    "# Access the closing price for AGG from the Alpaca DataFrame\n",
    "# Converting the value to a floating point number\n",
    "agg_close_price = stock_prices_df['AGG']['close'][0]\n",
    "\n",
    "# Print the AGG closing price\n",
    "print(f\"AGG Closing Price for 2021-12-31: ${agg_close_price:,.2f}\")"
   ]
  },
  {
   "cell_type": "code",
   "execution_count": 79,
   "metadata": {},
   "outputs": [
    {
     "name": "stdout",
     "output_type": "stream",
     "text": [
      "SPY Closing Price for 2021-12-31: $474.89\n"
     ]
    }
   ],
   "source": [
    "spy_close_price = stock_prices_df['SPY']['close'][0]\n",
    "print(f\"SPY Closing Price for 2021-12-31: ${spy_close_price:,.2f}\")"
   ]
  },
  {
   "cell_type": "markdown",
   "metadata": {},
   "source": [
    "#### Step 6: Calculate the value, in US dollars, of the current amount of shares in each of the stock and bond portions of the portfolio, and print the results."
   ]
  },
  {
   "cell_type": "code",
   "execution_count": 80,
   "metadata": {},
   "outputs": [
    {
     "name": "stdout",
     "output_type": "stream",
     "text": [
      "Bond Portfolio Value: $22,818.00\n"
     ]
    }
   ],
   "source": [
    "agg_value = agg_close_price * agg_shares\n",
    "print(f\"Bond Portfolio Value: ${agg_value:,.2f}\")"
   ]
  },
  {
   "cell_type": "code",
   "execution_count": 81,
   "metadata": {},
   "outputs": [
    {
     "name": "stdout",
     "output_type": "stream",
     "text": [
      "Stock Portfolio Value: $52,237.90\n"
     ]
    }
   ],
   "source": [
    "spy_value = spy_close_price * spy_shares\n",
    "print(f\"Stock Portfolio Value: ${spy_value:,.2f}\")"
   ]
  },
  {
   "cell_type": "code",
   "execution_count": 82,
   "metadata": {},
   "outputs": [
    {
     "name": "stdout",
     "output_type": "stream",
     "text": [
      "Current Combined Stock & Bond Portfolio Value: $75,055.90\n"
     ]
    }
   ],
   "source": [
    "total_stocks_bonds = agg_value + spy_value\n",
    "print(f\"Current Combined Stock & Bond Portfolio Value: ${total_stocks_bonds:,.2f}\")"
   ]
  },
  {
   "cell_type": "code",
   "execution_count": 83,
   "metadata": {},
   "outputs": [
    {
     "name": "stdout",
     "output_type": "stream",
     "text": [
      "Current Total of all Security Assets: $150,478.51\n"
     ]
    }
   ],
   "source": [
    "total_portfolio = total_crypto_wallet + total_stocks_bonds\n",
    "print(f\"Current Total of all Security Assets: ${total_portfolio:,.2f}\")"
   ]
  },
  {
   "cell_type": "markdown",
   "metadata": {},
   "source": [
    "### Evaluate the Emergency Fund\n",
    "\n",
    "In this section, you’ll use the valuations for the cryptocurrency wallet and for the stock and bond portions of the portfolio to determine if the credit union member has enough savings to build an emergency fund into their financial plan. To do this, complete the following steps:\n",
    "\n",
    "1. Create a Python list named `savings_data` that has two elements. The first element contains the total value of the cryptocurrency wallet. The second element contains the total value of the stock and bond portions of the portfolio.\n",
    "\n",
    "2. Use the `savings_data` list to create a Pandas DataFrame named `savings_df`, and then display this DataFrame. The function to create the DataFrame should take the following three parameters:\n",
    "\n",
    "    - `savings_data`: Use the list that you just created.\n",
    "\n",
    "    - `columns`: Set this parameter equal to a Python list with a single value called `amount`.\n",
    "\n",
    "    - `index`: Set this parameter equal to a Python list with the values of `crypto` and `stock/bond`.\n",
    "\n",
    "3. Use the `savings_df` DataFrame to plot a pie chart that visualizes the composition of the member’s portfolio. The y-axis of the pie chart uses `amount`. Be sure to add a title.\n",
    "\n",
    "4. Using Python, determine if the current portfolio has enough to create an emergency fund as part of the member’s financial plan. Ideally, an emergency fund should equal to three times the member’s monthly income. To do this, implement the following steps:\n",
    "\n",
    "    1. Create a variable named `emergency_fund_value`, and set it equal to three times the value of the member’s `monthly_income` of $12000. (You set this earlier in Part 1).\n",
    "\n",
    "    2. Create a series of three if statements to determine if the member’s total portfolio is large enough to fund the emergency portfolio:\n",
    "\n",
    "        1. If the total portfolio value is greater than the emergency fund value, display a message congratulating the member for having enough money in this fund.\n",
    "\n",
    "        2. Else if the total portfolio value is equal to the emergency fund value, display a message congratulating the member on reaching this important financial goal.\n",
    "\n",
    "        3. Else the total portfolio is less than the emergency fund value, so display a message showing how many dollars away the member is from reaching the goal. (Subtract the total portfolio value from the emergency fund value.)\n"
   ]
  },
  {
   "cell_type": "markdown",
   "metadata": {},
   "source": [
    "#### Step 1: Create a Python list named `savings_data` that has two elements. The first element contains the total value of the cryptocurrency wallet. The second element contains the total value of the stock and bond portions of the portfolio."
   ]
  },
  {
   "cell_type": "code",
   "execution_count": 84,
   "metadata": {},
   "outputs": [
    {
     "data": {
      "text/plain": [
       "[75422.607, 75055.9]"
      ]
     },
     "execution_count": 84,
     "metadata": {},
     "output_type": "execute_result"
    }
   ],
   "source": [
    "savings_data = [total_crypto_wallet, total_stocks_bonds]\n",
    "\n",
    "savings_data"
   ]
  },
  {
   "cell_type": "markdown",
   "metadata": {},
   "source": [
    "#### Step 2: Use the `savings_data` list to create a Pandas DataFrame named `savings_df`, and then display this DataFrame. The function to create the DataFrame should take the following three parameters:\n",
    "\n",
    "- `savings_data`: Use the list that you just created.\n",
    "\n",
    "- `columns`: Set this parameter equal to a Python list with a single value called `amount`.\n",
    "\n",
    "- `index`: Set this parameter equal to a Python list with the values of `crypto` and `stock/bond`.\n"
   ]
  },
  {
   "cell_type": "code",
   "execution_count": 85,
   "metadata": {},
   "outputs": [
    {
     "data": {
      "text/html": [
       "<div>\n",
       "<style scoped>\n",
       "    .dataframe tbody tr th:only-of-type {\n",
       "        vertical-align: middle;\n",
       "    }\n",
       "\n",
       "    .dataframe tbody tr th {\n",
       "        vertical-align: top;\n",
       "    }\n",
       "\n",
       "    .dataframe thead th {\n",
       "        text-align: right;\n",
       "    }\n",
       "</style>\n",
       "<table border=\"1\" class=\"dataframe\">\n",
       "  <thead>\n",
       "    <tr style=\"text-align: right;\">\n",
       "      <th></th>\n",
       "      <th>amount</th>\n",
       "    </tr>\n",
       "  </thead>\n",
       "  <tbody>\n",
       "    <tr>\n",
       "      <th>crypto</th>\n",
       "      <td>75422.607</td>\n",
       "    </tr>\n",
       "    <tr>\n",
       "      <th>stock/bond</th>\n",
       "      <td>75055.900</td>\n",
       "    </tr>\n",
       "  </tbody>\n",
       "</table>\n",
       "</div>"
      ],
      "text/plain": [
       "               amount\n",
       "crypto      75422.607\n",
       "stock/bond  75055.900"
      ]
     },
     "execution_count": 85,
     "metadata": {},
     "output_type": "execute_result"
    }
   ],
   "source": [
    "savings_df = pd.DataFrame(\n",
    "    savings_data,\n",
    "    columns=['amount'],\n",
    "    index=['crypto', 'stock/bond']\n",
    ")\n",
    "\n",
    "savings_df"
   ]
  },
  {
   "cell_type": "markdown",
   "metadata": {},
   "source": [
    "#### Step 3: Use the `savings_df` DataFrame to plot a pie chart that visualizes the composition of the member’s portfolio. The y-axis of the pie chart uses `amount`. Be sure to add a title."
   ]
  },
  {
   "cell_type": "code",
   "execution_count": 86,
   "metadata": {},
   "outputs": [
    {
     "data": {
      "image/png": "[encoded data removed]",
      "text/plain": [
       "<Figure size 432x432 with 1 Axes>"
      ]
     },
     "metadata": {},
     "output_type": "display_data"
    }
   ],
   "source": [
    "savings_df.plot.pie(\n",
    "    y='amount',\n",
    "    figsize=(6, 6),\n",
    "    title='Portfolio Proportions'\n",
    ");"
   ]
  },
  {
   "cell_type": "markdown",
   "metadata": {},
   "source": [
    "#### Step 4: Using Python, determine if the current portfolio has enough to create an emergency fund as part of the member’s financial plan. Ideally, an emergency fund should equal to three times the member’s monthly income. To do this, implement the following steps:\n",
    "\n",
    "Step 1. Create a variable named `emergency_fund_value`, and set it equal to three times the value of the member’s `monthly_income` of 12000. (You set this earlier in Part 1).\n",
    "\n",
    "Step 2. Create a series of three if statements to determine if the member’s total portfolio is large enough to fund the emergency portfolio:\n",
    "\n",
    "* If the total portfolio value is greater than the emergency fund value, display a message congratulating the member for having enough money in this fund.\n",
    "\n",
    "* Else if the total portfolio value is equal to the emergency fund value, display a message congratulating the member on reaching this important financial goal.\n",
    "\n",
    "* Else the total portfolio is less than the emergency fund value, so display a message showing how many dollars away the member is from reaching the goal. (Subtract the total portfolio value from the emergency fund value.)\n"
   ]
  },
  {
   "cell_type": "markdown",
   "metadata": {},
   "source": [
    "##### Step 4-1: Create a variable named `emergency_fund_value`, and set it equal to three times the value of the member’s `monthly_income` of 12000. (You set this earlier in Part 1)."
   ]
  },
  {
   "cell_type": "code",
   "execution_count": 87,
   "metadata": {},
   "outputs": [],
   "source": [
    "emergency_fund_value = monthly_income * 3"
   ]
  },
  {
   "cell_type": "markdown",
   "metadata": {},
   "source": [
    "##### Step 4-2: Create a series of three if statements to determine if the member’s total portfolio is large enough to fund the emergency portfolio:\n",
    "\n",
    "* If the total portfolio value is greater than the emergency fund value, display a message congratulating the member for having enough money in this fund.\n",
    "\n",
    "* Else if the total portfolio value is equal to the emergency fund value, display a message congratulating the member on reaching this important financial goal.\n",
    "\n",
    "* Else the total portfolio is less than the emergency fund value, so display a message showing how many dollars away the member is from reaching the goal. (Subtract the total portfolio value from the emergency fund value.)"
   ]
  },
  {
   "cell_type": "code",
   "execution_count": 88,
   "metadata": {},
   "outputs": [
    {
     "name": "stdout",
     "output_type": "stream",
     "text": [
      "Congratulations, your crypto/stock/bond portfolio has the funds to finance your emergency portfolio!\n"
     ]
    }
   ],
   "source": [
    "if total_portfolio > emergency_fund_value:\n",
    "    print(\"Congratulations, your crypto/stock/bond \"\n",
    "          \"portfolio has the funds to finance your emergency portfolio!\")\n",
    "elif total_portfolio == emergency_fund_value:\n",
    "    print(\"Congratulations, your crypto/stock/bond portfolio equals the amount of funds needed to finance your emergency portfolio.\")\n",
    "else:\n",
    "    print(f\"Your crypto/stock/bond portfolio is currently valued at ${total_portfolio:,.2f}. To finance your \"\n",
    "          f\"emergency portfolio, an additional ${emergency_fund_value - total_portfolio:,.2f} will be needed.\")"
   ]
  },
  {
   "cell_type": "markdown",
   "metadata": {},
   "source": [
    "## Part 2: Create a Financial Planner for Retirement"
   ]
  },
  {
   "cell_type": "markdown",
   "metadata": {},
   "source": [
    "### Create the Monte Carlo Simulation\n",
    "\n",
    "In this section, you’ll use the MCForecastTools library to create a Monte Carlo simulation for the member’s savings portfolio. To do this, complete the following steps:\n",
    "\n",
    "1. Make an API call via the Alpaca SDK to get 3 years of historical closing prices for a traditional 60/40 portfolio split: 60% stocks (SPY) and 40% bonds (AGG).\n",
    "\n",
    "2. Run a Monte Carlo simulation of 500 samples and 30 years for the 60/40 portfolio, and then plot the results.The following image shows the overlay line plot resulting from a simulation with these characteristics. However, because a random number generator is used to run each live Monte Carlo simulation, your image will differ slightly from this exact image:\n",
    "\n",
    "![A screenshot depicts the resulting plot.](Images/5-4-monte-carlo-line-plot.png)\n",
    "\n",
    "3. Plot the probability distribution of the Monte Carlo simulation. Plot the probability distribution of the Monte Carlo simulation. The following image shows the histogram plot resulting from a simulation with these characteristics. However, because a random number generator is used to run each live Monte Carlo simulation, your image will differ slightly from this exact image:\n",
    "\n",
    "![A screenshot depicts the histogram plot.](Images/5-4-monte-carlo-histogram.png)\n",
    "\n",
    "4. Generate the summary statistics for the Monte Carlo simulation.\n",
    "\n"
   ]
  },
  {
   "cell_type": "markdown",
   "metadata": {},
   "source": [
    "#### Step 1: Make an API call via the Alpaca SDK to get 3 years of historical closing prices for a traditional 60/40 portfolio split: 60% stocks (SPY) and 40% bonds (AGG)."
   ]
  },
  {
   "cell_type": "code",
   "execution_count": 89,
   "metadata": {},
   "outputs": [],
   "source": [
    "start_date = pd.Timestamp('2018-12-31', tz='America/New_York').isoformat()\n",
    "end_date = pd.Timestamp('2021-12-31', tz='America/New_York').isoformat()\n",
    "limit_rows = 1000"
   ]
  },
  {
   "cell_type": "code",
   "execution_count": 90,
   "metadata": {},
   "outputs": [
    {
     "data": {
      "text/html": [
       "<div>\n",
       "<style scoped>\n",
       "    .dataframe tbody tr th:only-of-type {\n",
       "        vertical-align: middle;\n",
       "    }\n",
       "\n",
       "    .dataframe tbody tr th {\n",
       "        vertical-align: top;\n",
       "    }\n",
       "\n",
       "    .dataframe thead tr th {\n",
       "        text-align: left;\n",
       "    }\n",
       "</style>\n",
       "<table border=\"1\" class=\"dataframe\">\n",
       "  <thead>\n",
       "    <tr>\n",
       "      <th></th>\n",
       "      <th colspan=\"5\" halign=\"left\">AGG</th>\n",
       "      <th colspan=\"5\" halign=\"left\">SPY</th>\n",
       "    </tr>\n",
       "    <tr>\n",
       "      <th></th>\n",
       "      <th>open</th>\n",
       "      <th>high</th>\n",
       "      <th>low</th>\n",
       "      <th>close</th>\n",
       "      <th>volume</th>\n",
       "      <th>open</th>\n",
       "      <th>high</th>\n",
       "      <th>low</th>\n",
       "      <th>close</th>\n",
       "      <th>volume</th>\n",
       "    </tr>\n",
       "  </thead>\n",
       "  <tbody>\n",
       "    <tr>\n",
       "      <th>2018-12-31</th>\n",
       "      <td>106.12</td>\n",
       "      <td>106.510</td>\n",
       "      <td>105.6200</td>\n",
       "      <td>106.495</td>\n",
       "      <td>8349838.0</td>\n",
       "      <td>249.56</td>\n",
       "      <td>250.16</td>\n",
       "      <td>247.47</td>\n",
       "      <td>248.55</td>\n",
       "      <td>100767777</td>\n",
       "    </tr>\n",
       "    <tr>\n",
       "      <th>2019-01-02</th>\n",
       "      <td>106.55</td>\n",
       "      <td>106.610</td>\n",
       "      <td>106.4701</td>\n",
       "      <td>106.585</td>\n",
       "      <td>10164756.0</td>\n",
       "      <td>245.98</td>\n",
       "      <td>251.21</td>\n",
       "      <td>245.95</td>\n",
       "      <td>249.89</td>\n",
       "      <td>107236613</td>\n",
       "    </tr>\n",
       "    <tr>\n",
       "      <th>2019-01-03</th>\n",
       "      <td>106.57</td>\n",
       "      <td>107.075</td>\n",
       "      <td>106.5700</td>\n",
       "      <td>107.020</td>\n",
       "      <td>6260265.0</td>\n",
       "      <td>248.23</td>\n",
       "      <td>248.57</td>\n",
       "      <td>244.03</td>\n",
       "      <td>244.46</td>\n",
       "      <td>113782919</td>\n",
       "    </tr>\n",
       "    <tr>\n",
       "      <th>2019-01-04</th>\n",
       "      <td>106.66</td>\n",
       "      <td>106.720</td>\n",
       "      <td>106.5500</td>\n",
       "      <td>106.695</td>\n",
       "      <td>7755476.0</td>\n",
       "      <td>247.59</td>\n",
       "      <td>253.11</td>\n",
       "      <td>247.17</td>\n",
       "      <td>252.41</td>\n",
       "      <td>122528832</td>\n",
       "    </tr>\n",
       "    <tr>\n",
       "      <th>2019-01-07</th>\n",
       "      <td>106.72</td>\n",
       "      <td>106.790</td>\n",
       "      <td>106.4600</td>\n",
       "      <td>106.470</td>\n",
       "      <td>6545877.0</td>\n",
       "      <td>252.69</td>\n",
       "      <td>255.95</td>\n",
       "      <td>251.69</td>\n",
       "      <td>254.40</td>\n",
       "      <td>88317608</td>\n",
       "    </tr>\n",
       "  </tbody>\n",
       "</table>\n",
       "</div>"
      ],
      "text/plain": [
       "               AGG                                             SPY          \\\n",
       "              open     high       low    close      volume    open    high   \n",
       "2018-12-31  106.12  106.510  105.6200  106.495   8349838.0  249.56  250.16   \n",
       "2019-01-02  106.55  106.610  106.4701  106.585  10164756.0  245.98  251.21   \n",
       "2019-01-03  106.57  107.075  106.5700  107.020   6260265.0  248.23  248.57   \n",
       "2019-01-04  106.66  106.720  106.5500  106.695   7755476.0  247.59  253.11   \n",
       "2019-01-07  106.72  106.790  106.4600  106.470   6545877.0  252.69  255.95   \n",
       "\n",
       "                                       \n",
       "               low   close     volume  \n",
       "2018-12-31  247.47  248.55  100767777  \n",
       "2019-01-02  245.95  249.89  107236613  \n",
       "2019-01-03  244.03  244.46  113782919  \n",
       "2019-01-04  247.17  252.41  122528832  \n",
       "2019-01-07  251.69  254.40   88317608  "
      ]
     },
     "metadata": {},
     "output_type": "display_data"
    },
    {
     "data": {
      "text/html": [
       "<div>\n",
       "<style scoped>\n",
       "    .dataframe tbody tr th:only-of-type {\n",
       "        vertical-align: middle;\n",
       "    }\n",
       "\n",
       "    .dataframe tbody tr th {\n",
       "        vertical-align: top;\n",
       "    }\n",
       "\n",
       "    .dataframe thead tr th {\n",
       "        text-align: left;\n",
       "    }\n",
       "</style>\n",
       "<table border=\"1\" class=\"dataframe\">\n",
       "  <thead>\n",
       "    <tr>\n",
       "      <th></th>\n",
       "      <th colspan=\"5\" halign=\"left\">AGG</th>\n",
       "      <th colspan=\"5\" halign=\"left\">SPY</th>\n",
       "    </tr>\n",
       "    <tr>\n",
       "      <th></th>\n",
       "      <th>open</th>\n",
       "      <th>high</th>\n",
       "      <th>low</th>\n",
       "      <th>close</th>\n",
       "      <th>volume</th>\n",
       "      <th>open</th>\n",
       "      <th>high</th>\n",
       "      <th>low</th>\n",
       "      <th>close</th>\n",
       "      <th>volume</th>\n",
       "    </tr>\n",
       "  </thead>\n",
       "  <tbody>\n",
       "    <tr>\n",
       "      <th>2021-12-27</th>\n",
       "      <td>114.15</td>\n",
       "      <td>114.30</td>\n",
       "      <td>114.13</td>\n",
       "      <td>114.27</td>\n",
       "      <td>5069840.0</td>\n",
       "      <td>472.03</td>\n",
       "      <td>477.31</td>\n",
       "      <td>472.01</td>\n",
       "      <td>477.27</td>\n",
       "      <td>46260198</td>\n",
       "    </tr>\n",
       "    <tr>\n",
       "      <th>2021-12-28</th>\n",
       "      <td>114.43</td>\n",
       "      <td>114.45</td>\n",
       "      <td>114.17</td>\n",
       "      <td>114.22</td>\n",
       "      <td>4892072.0</td>\n",
       "      <td>477.72</td>\n",
       "      <td>478.81</td>\n",
       "      <td>476.06</td>\n",
       "      <td>476.89</td>\n",
       "      <td>37370466</td>\n",
       "    </tr>\n",
       "    <tr>\n",
       "      <th>2021-12-29</th>\n",
       "      <td>113.99</td>\n",
       "      <td>114.05</td>\n",
       "      <td>113.81</td>\n",
       "      <td>113.87</td>\n",
       "      <td>5712959.0</td>\n",
       "      <td>477.00</td>\n",
       "      <td>478.56</td>\n",
       "      <td>475.92</td>\n",
       "      <td>477.46</td>\n",
       "      <td>47223213</td>\n",
       "    </tr>\n",
       "    <tr>\n",
       "      <th>2021-12-30</th>\n",
       "      <td>113.99</td>\n",
       "      <td>114.13</td>\n",
       "      <td>113.83</td>\n",
       "      <td>114.12</td>\n",
       "      <td>5044053.0</td>\n",
       "      <td>477.93</td>\n",
       "      <td>479.00</td>\n",
       "      <td>475.67</td>\n",
       "      <td>476.15</td>\n",
       "      <td>44681636</td>\n",
       "    </tr>\n",
       "    <tr>\n",
       "      <th>2021-12-31</th>\n",
       "      <td>114.15</td>\n",
       "      <td>114.31</td>\n",
       "      <td>114.06</td>\n",
       "      <td>114.09</td>\n",
       "      <td>6557778.0</td>\n",
       "      <td>475.64</td>\n",
       "      <td>476.86</td>\n",
       "      <td>474.67</td>\n",
       "      <td>474.89</td>\n",
       "      <td>51212452</td>\n",
       "    </tr>\n",
       "  </tbody>\n",
       "</table>\n",
       "</div>"
      ],
      "text/plain": [
       "               AGG                                        SPY                  \\\n",
       "              open    high     low   close     volume    open    high     low   \n",
       "2021-12-27  114.15  114.30  114.13  114.27  5069840.0  472.03  477.31  472.01   \n",
       "2021-12-28  114.43  114.45  114.17  114.22  4892072.0  477.72  478.81  476.06   \n",
       "2021-12-29  113.99  114.05  113.81  113.87  5712959.0  477.00  478.56  475.92   \n",
       "2021-12-30  113.99  114.13  113.83  114.12  5044053.0  477.93  479.00  475.67   \n",
       "2021-12-31  114.15  114.31  114.06  114.09  6557778.0  475.64  476.86  474.67   \n",
       "\n",
       "                              \n",
       "             close    volume  \n",
       "2021-12-27  477.27  46260198  \n",
       "2021-12-28  476.89  37370466  \n",
       "2021-12-29  477.46  47223213  \n",
       "2021-12-30  476.15  44681636  \n",
       "2021-12-31  474.89  51212452  "
      ]
     },
     "metadata": {},
     "output_type": "display_data"
    },
    {
     "data": {
      "text/plain": [
       "(758, 10)"
      ]
     },
     "execution_count": 90,
     "metadata": {},
     "output_type": "execute_result"
    }
   ],
   "source": [
    "prices_df = alpaca.get_barset(\n",
    "    tickers,\n",
    "    timeframe,\n",
    "    start=start_date,\n",
    "    end=end_date,\n",
    "    limit=limit_rows\n",
    ").df\n",
    "\n",
    "prices_df.index = prices_df.index.date\n",
    "\n",
    "display(prices_df.head())\n",
    "display(prices_df.tail())\n",
    "prices_df.shape"
   ]
  },
  {
   "cell_type": "markdown",
   "metadata": {},
   "source": [
    "#### Step 2: Run a Monte Carlo simulation of 500 samples and 30 years for the 60/40 portfolio, and then plot the results."
   ]
  },
  {
   "cell_type": "code",
   "execution_count": 91,
   "metadata": {},
   "outputs": [
    {
     "data": {
      "text/html": [
       "<div>\n",
       "<style scoped>\n",
       "    .dataframe tbody tr th:only-of-type {\n",
       "        vertical-align: middle;\n",
       "    }\n",
       "\n",
       "    .dataframe tbody tr th {\n",
       "        vertical-align: top;\n",
       "    }\n",
       "\n",
       "    .dataframe thead tr th {\n",
       "        text-align: left;\n",
       "    }\n",
       "</style>\n",
       "<table border=\"1\" class=\"dataframe\">\n",
       "  <thead>\n",
       "    <tr>\n",
       "      <th></th>\n",
       "      <th colspan=\"6\" halign=\"left\">AGG</th>\n",
       "      <th colspan=\"6\" halign=\"left\">SPY</th>\n",
       "    </tr>\n",
       "    <tr>\n",
       "      <th></th>\n",
       "      <th>open</th>\n",
       "      <th>high</th>\n",
       "      <th>low</th>\n",
       "      <th>close</th>\n",
       "      <th>volume</th>\n",
       "      <th>daily_return</th>\n",
       "      <th>open</th>\n",
       "      <th>high</th>\n",
       "      <th>low</th>\n",
       "      <th>close</th>\n",
       "      <th>volume</th>\n",
       "      <th>daily_return</th>\n",
       "    </tr>\n",
       "  </thead>\n",
       "  <tbody>\n",
       "    <tr>\n",
       "      <th>2018-12-31</th>\n",
       "      <td>106.12</td>\n",
       "      <td>106.510</td>\n",
       "      <td>105.6200</td>\n",
       "      <td>106.495</td>\n",
       "      <td>8349838.0</td>\n",
       "      <td>NaN</td>\n",
       "      <td>249.56</td>\n",
       "      <td>250.16</td>\n",
       "      <td>247.47</td>\n",
       "      <td>248.55</td>\n",
       "      <td>100767777</td>\n",
       "      <td>NaN</td>\n",
       "    </tr>\n",
       "    <tr>\n",
       "      <th>2019-01-02</th>\n",
       "      <td>106.55</td>\n",
       "      <td>106.610</td>\n",
       "      <td>106.4701</td>\n",
       "      <td>106.585</td>\n",
       "      <td>10164756.0</td>\n",
       "      <td>0.000845</td>\n",
       "      <td>245.98</td>\n",
       "      <td>251.21</td>\n",
       "      <td>245.95</td>\n",
       "      <td>249.89</td>\n",
       "      <td>107236613</td>\n",
       "      <td>0.005391</td>\n",
       "    </tr>\n",
       "    <tr>\n",
       "      <th>2019-01-03</th>\n",
       "      <td>106.57</td>\n",
       "      <td>107.075</td>\n",
       "      <td>106.5700</td>\n",
       "      <td>107.020</td>\n",
       "      <td>6260265.0</td>\n",
       "      <td>0.004081</td>\n",
       "      <td>248.23</td>\n",
       "      <td>248.57</td>\n",
       "      <td>244.03</td>\n",
       "      <td>244.46</td>\n",
       "      <td>113782919</td>\n",
       "      <td>-0.021730</td>\n",
       "    </tr>\n",
       "    <tr>\n",
       "      <th>2019-01-04</th>\n",
       "      <td>106.66</td>\n",
       "      <td>106.720</td>\n",
       "      <td>106.5500</td>\n",
       "      <td>106.695</td>\n",
       "      <td>7755476.0</td>\n",
       "      <td>-0.003037</td>\n",
       "      <td>247.59</td>\n",
       "      <td>253.11</td>\n",
       "      <td>247.17</td>\n",
       "      <td>252.41</td>\n",
       "      <td>122528832</td>\n",
       "      <td>0.032521</td>\n",
       "    </tr>\n",
       "    <tr>\n",
       "      <th>2019-01-07</th>\n",
       "      <td>106.72</td>\n",
       "      <td>106.790</td>\n",
       "      <td>106.4600</td>\n",
       "      <td>106.470</td>\n",
       "      <td>6545877.0</td>\n",
       "      <td>-0.002109</td>\n",
       "      <td>252.69</td>\n",
       "      <td>255.95</td>\n",
       "      <td>251.69</td>\n",
       "      <td>254.40</td>\n",
       "      <td>88317608</td>\n",
       "      <td>0.007884</td>\n",
       "    </tr>\n",
       "  </tbody>\n",
       "</table>\n",
       "</div>"
      ],
      "text/plain": [
       "               AGG                                                       \\\n",
       "              open     high       low    close      volume daily_return   \n",
       "2018-12-31  106.12  106.510  105.6200  106.495   8349838.0          NaN   \n",
       "2019-01-02  106.55  106.610  106.4701  106.585  10164756.0     0.000845   \n",
       "2019-01-03  106.57  107.075  106.5700  107.020   6260265.0     0.004081   \n",
       "2019-01-04  106.66  106.720  106.5500  106.695   7755476.0    -0.003037   \n",
       "2019-01-07  106.72  106.790  106.4600  106.470   6545877.0    -0.002109   \n",
       "\n",
       "               SPY                                                  \n",
       "              open    high     low   close     volume daily_return  \n",
       "2018-12-31  249.56  250.16  247.47  248.55  100767777          NaN  \n",
       "2019-01-02  245.98  251.21  245.95  249.89  107236613     0.005391  \n",
       "2019-01-03  248.23  248.57  244.03  244.46  113782919    -0.021730  \n",
       "2019-01-04  247.59  253.11  247.17  252.41  122528832     0.032521  \n",
       "2019-01-07  252.69  255.95  251.69  254.40   88317608     0.007884  "
      ]
     },
     "execution_count": 91,
     "metadata": {},
     "output_type": "execute_result"
    }
   ],
   "source": [
    "Monte_Carlo_30 = MCSimulation(\n",
    "    portfolio_data=prices_df,\n",
    "    weights=[0.4, 0.6],\n",
    "    num_simulation=500,\n",
    "    num_trading_days=252*30\n",
    ")\n",
    "\n",
    "Monte_Carlo_30.portfolio_data.head()"
   ]
  },
  {
   "cell_type": "code",
   "execution_count": 92,
   "metadata": {},
   "outputs": [
    {
     "name": "stdout",
     "output_type": "stream",
     "text": [
      "Running Monte Carlo simulation number 0.\n",
      "Running Monte Carlo simulation number 10.\n",
      "Running Monte Carlo simulation number 20.\n",
      "Running Monte Carlo simulation number 30.\n",
      "Running Monte Carlo simulation number 40.\n",
      "Running Monte Carlo simulation number 50.\n",
      "Running Monte Carlo simulation number 60.\n",
      "Running Monte Carlo simulation number 70.\n",
      "Running Monte Carlo simulation number 80.\n",
      "Running Monte Carlo simulation number 90.\n",
      "Running Monte Carlo simulation number 100.\n",
      "Running Monte Carlo simulation number 110.\n",
      "Running Monte Carlo simulation number 120.\n",
      "Running Monte Carlo simulation number 130.\n",
      "Running Monte Carlo simulation number 140.\n",
      "Running Monte Carlo simulation number 150.\n",
      "Running Monte Carlo simulation number 160.\n",
      "Running Monte Carlo simulation number 170.\n",
      "Running Monte Carlo simulation number 180.\n",
      "Running Monte Carlo simulation number 190.\n",
      "Running Monte Carlo simulation number 200.\n",
      "Running Monte Carlo simulation number 210.\n",
      "Running Monte Carlo simulation number 220.\n",
      "Running Monte Carlo simulation number 230.\n",
      "Running Monte Carlo simulation number 240.\n",
      "Running Monte Carlo simulation number 250.\n",
      "Running Monte Carlo simulation number 260.\n",
      "Running Monte Carlo simulation number 270.\n",
      "Running Monte Carlo simulation number 280.\n",
      "Running Monte Carlo simulation number 290.\n",
      "Running Monte Carlo simulation number 300.\n",
      "Running Monte Carlo simulation number 310.\n",
      "Running Monte Carlo simulation number 320.\n",
      "Running Monte Carlo simulation number 330.\n",
      "Running Monte Carlo simulation number 340.\n",
      "Running Monte Carlo simulation number 350.\n",
      "Running Monte Carlo simulation number 360.\n",
      "Running Monte Carlo simulation number 370.\n",
      "Running Monte Carlo simulation number 380.\n",
      "Running Monte Carlo simulation number 390.\n",
      "Running Monte Carlo simulation number 400.\n",
      "Running Monte Carlo simulation number 410.\n",
      "Running Monte Carlo simulation number 420.\n",
      "Running Monte Carlo simulation number 430.\n",
      "Running Monte Carlo simulation number 440.\n",
      "Running Monte Carlo simulation number 450.\n",
      "Running Monte Carlo simulation number 460.\n",
      "Running Monte Carlo simulation number 470.\n",
      "Running Monte Carlo simulation number 480.\n",
      "Running Monte Carlo simulation number 490.\n"
     ]
    },
    {
     "data": {
      "text/html": [
       "<div>\n",
       "<style scoped>\n",
       "    .dataframe tbody tr th:only-of-type {\n",
       "        vertical-align: middle;\n",
       "    }\n",
       "\n",
       "    .dataframe tbody tr th {\n",
       "        vertical-align: top;\n",
       "    }\n",
       "\n",
       "    .dataframe thead th {\n",
       "        text-align: right;\n",
       "    }\n",
       "</style>\n",
       "<table border=\"1\" class=\"dataframe\">\n",
       "  <thead>\n",
       "    <tr style=\"text-align: right;\">\n",
       "      <th></th>\n",
       "      <th>0</th>\n",
       "      <th>1</th>\n",
       "      <th>2</th>\n",
       "      <th>3</th>\n",
       "      <th>4</th>\n",
       "      <th>5</th>\n",
       "      <th>6</th>\n",
       "      <th>7</th>\n",
       "      <th>8</th>\n",
       "      <th>9</th>\n",
       "      <th>...</th>\n",
       "      <th>490</th>\n",
       "      <th>491</th>\n",
       "      <th>492</th>\n",
       "      <th>493</th>\n",
       "      <th>494</th>\n",
       "      <th>495</th>\n",
       "      <th>496</th>\n",
       "      <th>497</th>\n",
       "      <th>498</th>\n",
       "      <th>499</th>\n",
       "    </tr>\n",
       "  </thead>\n",
       "  <tbody>\n",
       "    <tr>\n",
       "      <th>0</th>\n",
       "      <td>1.000000</td>\n",
       "      <td>1.000000</td>\n",
       "      <td>1.000000</td>\n",
       "      <td>1.000000</td>\n",
       "      <td>1.000000</td>\n",
       "      <td>1.000000</td>\n",
       "      <td>1.000000</td>\n",
       "      <td>1.000000</td>\n",
       "      <td>1.000000</td>\n",
       "      <td>1.000000</td>\n",
       "      <td>...</td>\n",
       "      <td>1.000000</td>\n",
       "      <td>1.000000</td>\n",
       "      <td>1.000000</td>\n",
       "      <td>1.000000</td>\n",
       "      <td>1.000000</td>\n",
       "      <td>1.000000</td>\n",
       "      <td>1.000000</td>\n",
       "      <td>1.000000</td>\n",
       "      <td>1.000000</td>\n",
       "      <td>1.000000</td>\n",
       "    </tr>\n",
       "    <tr>\n",
       "      <th>1</th>\n",
       "      <td>0.993998</td>\n",
       "      <td>0.990473</td>\n",
       "      <td>1.011880</td>\n",
       "      <td>0.998494</td>\n",
       "      <td>1.005117</td>\n",
       "      <td>1.004783</td>\n",
       "      <td>0.996232</td>\n",
       "      <td>0.997473</td>\n",
       "      <td>0.997290</td>\n",
       "      <td>0.994368</td>\n",
       "      <td>...</td>\n",
       "      <td>0.997103</td>\n",
       "      <td>0.993607</td>\n",
       "      <td>1.025840</td>\n",
       "      <td>1.012460</td>\n",
       "      <td>0.991867</td>\n",
       "      <td>1.003979</td>\n",
       "      <td>1.003105</td>\n",
       "      <td>1.004437</td>\n",
       "      <td>0.992732</td>\n",
       "      <td>1.009933</td>\n",
       "    </tr>\n",
       "    <tr>\n",
       "      <th>2</th>\n",
       "      <td>0.987336</td>\n",
       "      <td>0.994189</td>\n",
       "      <td>1.023421</td>\n",
       "      <td>0.985581</td>\n",
       "      <td>1.005564</td>\n",
       "      <td>1.001536</td>\n",
       "      <td>0.988840</td>\n",
       "      <td>0.997583</td>\n",
       "      <td>0.991128</td>\n",
       "      <td>1.002851</td>\n",
       "      <td>...</td>\n",
       "      <td>0.989298</td>\n",
       "      <td>0.974606</td>\n",
       "      <td>1.046141</td>\n",
       "      <td>1.016711</td>\n",
       "      <td>0.972321</td>\n",
       "      <td>1.000843</td>\n",
       "      <td>0.996158</td>\n",
       "      <td>0.988545</td>\n",
       "      <td>0.997923</td>\n",
       "      <td>1.012987</td>\n",
       "    </tr>\n",
       "    <tr>\n",
       "      <th>3</th>\n",
       "      <td>0.993684</td>\n",
       "      <td>1.013618</td>\n",
       "      <td>1.037030</td>\n",
       "      <td>0.984745</td>\n",
       "      <td>1.015107</td>\n",
       "      <td>1.002167</td>\n",
       "      <td>0.980634</td>\n",
       "      <td>1.004578</td>\n",
       "      <td>1.003909</td>\n",
       "      <td>1.017254</td>\n",
       "      <td>...</td>\n",
       "      <td>0.987395</td>\n",
       "      <td>0.968559</td>\n",
       "      <td>1.032128</td>\n",
       "      <td>1.014039</td>\n",
       "      <td>0.971003</td>\n",
       "      <td>1.002630</td>\n",
       "      <td>0.986810</td>\n",
       "      <td>0.994014</td>\n",
       "      <td>0.997027</td>\n",
       "      <td>1.019143</td>\n",
       "    </tr>\n",
       "    <tr>\n",
       "      <th>4</th>\n",
       "      <td>0.989980</td>\n",
       "      <td>1.011215</td>\n",
       "      <td>1.047186</td>\n",
       "      <td>0.983320</td>\n",
       "      <td>1.024879</td>\n",
       "      <td>0.988108</td>\n",
       "      <td>0.974864</td>\n",
       "      <td>1.012688</td>\n",
       "      <td>0.990875</td>\n",
       "      <td>1.005374</td>\n",
       "      <td>...</td>\n",
       "      <td>0.986443</td>\n",
       "      <td>0.969966</td>\n",
       "      <td>1.029574</td>\n",
       "      <td>1.016731</td>\n",
       "      <td>0.972308</td>\n",
       "      <td>1.005063</td>\n",
       "      <td>0.997753</td>\n",
       "      <td>0.988532</td>\n",
       "      <td>1.000527</td>\n",
       "      <td>1.020319</td>\n",
       "    </tr>\n",
       "    <tr>\n",
       "      <th>...</th>\n",
       "      <td>...</td>\n",
       "      <td>...</td>\n",
       "      <td>...</td>\n",
       "      <td>...</td>\n",
       "      <td>...</td>\n",
       "      <td>...</td>\n",
       "      <td>...</td>\n",
       "      <td>...</td>\n",
       "      <td>...</td>\n",
       "      <td>...</td>\n",
       "      <td>...</td>\n",
       "      <td>...</td>\n",
       "      <td>...</td>\n",
       "      <td>...</td>\n",
       "      <td>...</td>\n",
       "      <td>...</td>\n",
       "      <td>...</td>\n",
       "      <td>...</td>\n",
       "      <td>...</td>\n",
       "      <td>...</td>\n",
       "      <td>...</td>\n",
       "    </tr>\n",
       "    <tr>\n",
       "      <th>7556</th>\n",
       "      <td>123.231518</td>\n",
       "      <td>166.885231</td>\n",
       "      <td>50.728788</td>\n",
       "      <td>222.657476</td>\n",
       "      <td>50.155740</td>\n",
       "      <td>50.499689</td>\n",
       "      <td>23.110357</td>\n",
       "      <td>40.129961</td>\n",
       "      <td>62.683432</td>\n",
       "      <td>121.960947</td>\n",
       "      <td>...</td>\n",
       "      <td>28.551947</td>\n",
       "      <td>31.835005</td>\n",
       "      <td>60.713006</td>\n",
       "      <td>59.707458</td>\n",
       "      <td>41.556663</td>\n",
       "      <td>228.755284</td>\n",
       "      <td>156.940445</td>\n",
       "      <td>49.018729</td>\n",
       "      <td>41.656066</td>\n",
       "      <td>9.332981</td>\n",
       "    </tr>\n",
       "    <tr>\n",
       "      <th>7557</th>\n",
       "      <td>122.635541</td>\n",
       "      <td>166.500296</td>\n",
       "      <td>51.286057</td>\n",
       "      <td>222.151851</td>\n",
       "      <td>49.533170</td>\n",
       "      <td>50.702155</td>\n",
       "      <td>22.732400</td>\n",
       "      <td>40.304661</td>\n",
       "      <td>63.710247</td>\n",
       "      <td>123.603038</td>\n",
       "      <td>...</td>\n",
       "      <td>28.687373</td>\n",
       "      <td>31.735585</td>\n",
       "      <td>60.749622</td>\n",
       "      <td>59.753389</td>\n",
       "      <td>41.377084</td>\n",
       "      <td>228.679114</td>\n",
       "      <td>156.652795</td>\n",
       "      <td>48.743217</td>\n",
       "      <td>42.210735</td>\n",
       "      <td>9.291856</td>\n",
       "    </tr>\n",
       "    <tr>\n",
       "      <th>7558</th>\n",
       "      <td>122.268899</td>\n",
       "      <td>168.081093</td>\n",
       "      <td>51.736211</td>\n",
       "      <td>225.925475</td>\n",
       "      <td>49.719409</td>\n",
       "      <td>49.826433</td>\n",
       "      <td>22.868241</td>\n",
       "      <td>39.879392</td>\n",
       "      <td>63.504570</td>\n",
       "      <td>121.859795</td>\n",
       "      <td>...</td>\n",
       "      <td>28.868792</td>\n",
       "      <td>32.059463</td>\n",
       "      <td>62.073485</td>\n",
       "      <td>60.560707</td>\n",
       "      <td>42.026995</td>\n",
       "      <td>229.153187</td>\n",
       "      <td>158.363619</td>\n",
       "      <td>49.320239</td>\n",
       "      <td>41.972568</td>\n",
       "      <td>9.371997</td>\n",
       "    </tr>\n",
       "    <tr>\n",
       "      <th>7559</th>\n",
       "      <td>121.500180</td>\n",
       "      <td>168.363186</td>\n",
       "      <td>51.956525</td>\n",
       "      <td>228.495797</td>\n",
       "      <td>50.572932</td>\n",
       "      <td>49.954603</td>\n",
       "      <td>23.114385</td>\n",
       "      <td>39.908885</td>\n",
       "      <td>62.277929</td>\n",
       "      <td>120.343097</td>\n",
       "      <td>...</td>\n",
       "      <td>29.146196</td>\n",
       "      <td>32.164351</td>\n",
       "      <td>61.890178</td>\n",
       "      <td>60.198377</td>\n",
       "      <td>42.214698</td>\n",
       "      <td>229.101517</td>\n",
       "      <td>155.885775</td>\n",
       "      <td>49.188569</td>\n",
       "      <td>41.885739</td>\n",
       "      <td>9.301039</td>\n",
       "    </tr>\n",
       "    <tr>\n",
       "      <th>7560</th>\n",
       "      <td>119.394821</td>\n",
       "      <td>166.065550</td>\n",
       "      <td>50.835480</td>\n",
       "      <td>232.243075</td>\n",
       "      <td>51.047891</td>\n",
       "      <td>50.020085</td>\n",
       "      <td>22.868611</td>\n",
       "      <td>39.844632</td>\n",
       "      <td>62.457923</td>\n",
       "      <td>121.232279</td>\n",
       "      <td>...</td>\n",
       "      <td>28.837803</td>\n",
       "      <td>32.285710</td>\n",
       "      <td>60.887597</td>\n",
       "      <td>60.672650</td>\n",
       "      <td>42.151319</td>\n",
       "      <td>224.407381</td>\n",
       "      <td>156.625609</td>\n",
       "      <td>48.509130</td>\n",
       "      <td>41.660329</td>\n",
       "      <td>9.366622</td>\n",
       "    </tr>\n",
       "  </tbody>\n",
       "</table>\n",
       "<p>7561 rows × 500 columns</p>\n",
       "</div>"
      ],
      "text/plain": [
       "             0           1          2           3          4          5    \\\n",
       "0       1.000000    1.000000   1.000000    1.000000   1.000000   1.000000   \n",
       "1       0.993998    0.990473   1.011880    0.998494   1.005117   1.004783   \n",
       "2       0.987336    0.994189   1.023421    0.985581   1.005564   1.001536   \n",
       "3       0.993684    1.013618   1.037030    0.984745   1.015107   1.002167   \n",
       "4       0.989980    1.011215   1.047186    0.983320   1.024879   0.988108   \n",
       "...          ...         ...        ...         ...        ...        ...   \n",
       "7556  123.231518  166.885231  50.728788  222.657476  50.155740  50.499689   \n",
       "7557  122.635541  166.500296  51.286057  222.151851  49.533170  50.702155   \n",
       "7558  122.268899  168.081093  51.736211  225.925475  49.719409  49.826433   \n",
       "7559  121.500180  168.363186  51.956525  228.495797  50.572932  49.954603   \n",
       "7560  119.394821  166.065550  50.835480  232.243075  51.047891  50.020085   \n",
       "\n",
       "            6          7          8           9    ...        490        491  \\\n",
       "0      1.000000   1.000000   1.000000    1.000000  ...   1.000000   1.000000   \n",
       "1      0.996232   0.997473   0.997290    0.994368  ...   0.997103   0.993607   \n",
       "2      0.988840   0.997583   0.991128    1.002851  ...   0.989298   0.974606   \n",
       "3      0.980634   1.004578   1.003909    1.017254  ...   0.987395   0.968559   \n",
       "4      0.974864   1.012688   0.990875    1.005374  ...   0.986443   0.969966   \n",
       "...         ...        ...        ...         ...  ...        ...        ...   \n",
       "7556  23.110357  40.129961  62.683432  121.960947  ...  28.551947  31.835005   \n",
       "7557  22.732400  40.304661  63.710247  123.603038  ...  28.687373  31.735585   \n",
       "7558  22.868241  39.879392  63.504570  121.859795  ...  28.868792  32.059463   \n",
       "7559  23.114385  39.908885  62.277929  120.343097  ...  29.146196  32.164351   \n",
       "7560  22.868611  39.844632  62.457923  121.232279  ...  28.837803  32.285710   \n",
       "\n",
       "            492        493        494         495         496        497  \\\n",
       "0      1.000000   1.000000   1.000000    1.000000    1.000000   1.000000   \n",
       "1      1.025840   1.012460   0.991867    1.003979    1.003105   1.004437   \n",
       "2      1.046141   1.016711   0.972321    1.000843    0.996158   0.988545   \n",
       "3      1.032128   1.014039   0.971003    1.002630    0.986810   0.994014   \n",
       "4      1.029574   1.016731   0.972308    1.005063    0.997753   0.988532   \n",
       "...         ...        ...        ...         ...         ...        ...   \n",
       "7556  60.713006  59.707458  41.556663  228.755284  156.940445  49.018729   \n",
       "7557  60.749622  59.753389  41.377084  228.679114  156.652795  48.743217   \n",
       "7558  62.073485  60.560707  42.026995  229.153187  158.363619  49.320239   \n",
       "7559  61.890178  60.198377  42.214698  229.101517  155.885775  49.188569   \n",
       "7560  60.887597  60.672650  42.151319  224.407381  156.625609  48.509130   \n",
       "\n",
       "            498       499  \n",
       "0      1.000000  1.000000  \n",
       "1      0.992732  1.009933  \n",
       "2      0.997923  1.012987  \n",
       "3      0.997027  1.019143  \n",
       "4      1.000527  1.020319  \n",
       "...         ...       ...  \n",
       "7556  41.656066  9.332981  \n",
       "7557  42.210735  9.291856  \n",
       "7558  41.972568  9.371997  \n",
       "7559  41.885739  9.301039  \n",
       "7560  41.660329  9.366622  \n",
       "\n",
       "[7561 rows x 500 columns]"
      ]
     },
     "execution_count": 92,
     "metadata": {},
     "output_type": "execute_result"
    }
   ],
   "source": [
    "Monte_Carlo_30.calc_cumulative_return()"
   ]
  },
  {
   "cell_type": "code",
   "execution_count": 94,
   "metadata": {},
   "outputs": [
    {
     "data": {
      "image/png": "[encoded data removed]",
      "text/plain": [
       "<Figure size 432x288 with 1 Axes>"
      ]
     },
     "metadata": {
      "needs_background": "light"
     },
     "output_type": "display_data"
    }
   ],
   "source": [
    "Monte_Carlo_30_line_plot = Monte_Carlo_30.plot_simulation()"
   ]
  },
  {
   "cell_type": "markdown",
   "metadata": {},
   "source": [
    "#### Step 3: Plot the probability distribution of the Monte Carlo simulation."
   ]
  },
  {
   "cell_type": "code",
   "execution_count": 95,
   "metadata": {},
   "outputs": [
    {
     "data": {
      "image/png": "[encoded data removed]",
      "text/plain": [
       "<Figure size 432x288 with 1 Axes>"
      ]
     },
     "metadata": {
      "needs_background": "light"
     },
     "output_type": "display_data"
    }
   ],
   "source": [
    "Monte_Carlo_30_distribution_plot = Monte_Carlo_30.plot_distribution()"
   ]
  },
  {
   "cell_type": "markdown",
   "metadata": {},
   "source": [
    "#### Step 4: Generate the summary statistics for the Monte Carlo simulation."
   ]
  },
  {
   "cell_type": "code",
   "execution_count": 96,
   "metadata": {},
   "outputs": [
    {
     "data": {
      "text/plain": [
       "count            500.000000\n",
       "mean             101.175507\n",
       "std               90.776522\n",
       "min                9.366622\n",
       "25%               46.807577\n",
       "50%               76.408416\n",
       "75%              124.099664\n",
       "max             1026.365072\n",
       "95% CI Lower      16.987374\n",
       "95% CI Upper     290.068926\n",
       "Name: 7560, dtype: float64"
      ]
     },
     "execution_count": 96,
     "metadata": {},
     "output_type": "execute_result"
    }
   ],
   "source": [
    "Monte_Carlo_30_table = Monte_Carlo_30.summarize_cumulative_return()\n",
    "Monte_Carlo_30_table"
   ]
  },
  {
   "cell_type": "markdown",
   "metadata": {},
   "source": [
    "### Analyze the Retirement Portfolio Forecasts\n",
    "\n",
    "Using the current value of only the stock and bond portion of the member's portfolio and the summary statistics that you generated from the Monte Carlo simulation, answer the following question in your Jupyter notebook:\n",
    "\n",
    "-  What are the lower and upper bounds for the expected value of the portfolio with a 95% confidence interval?\n"
   ]
  },
  {
   "cell_type": "code",
   "execution_count": 97,
   "metadata": {},
   "outputs": [
    {
     "name": "stdout",
     "output_type": "stream",
     "text": [
      "Current Value of Stock & Bond Portfolio: $75,055.90\n"
     ]
    }
   ],
   "source": [
    "print(f\"Current Value of Stock & Bond Portfolio: ${total_stocks_bonds:,.2f}\")"
   ]
  },
  {
   "cell_type": "code",
   "execution_count": 98,
   "metadata": {},
   "outputs": [
    {
     "name": "stdout",
     "output_type": "stream",
     "text": [
      "There is a 95% chance that the Stocks and Bonds Portfolio, currently worth $75,055.90, will be valued between $1,275,002.61 and $21,771,384.33 within 30 years.\n"
     ]
    }
   ],
   "source": [
    "ci_lower_thirty_cumulative_return = Monte_Carlo_30_table[8] * total_stocks_bonds\n",
    "ci_upper_thirty_cumulative_return = Monte_Carlo_30_table[9] * total_stocks_bonds\n",
    "\n",
    "print(f\"There is a 95% chance that the Stocks and Bonds Portfolio, currently worth ${total_stocks_bonds:,.2f}, \"\n",
    "      f\"will be valued between ${ci_lower_thirty_cumulative_return:,.2f} and ${ci_upper_thirty_cumulative_return:,.2f} within 30 years.\")"
   ]
  },
  {
   "cell_type": "markdown",
   "metadata": {},
   "source": [
    "### Forecast Cumulative Returns in 10 Years\n",
    "\n",
    "The CTO of the credit union is impressed with your work on these planning tools but wonders if 30 years is a long time to wait until retirement. So, your next task is to adjust the retirement portfolio and run a new Monte Carlo simulation to find out if the changes will allow members to retire earlier.\n",
    "\n",
    "For this new Monte Carlo simulation, do the following: \n",
    "\n",
    "- Forecast the cumulative returns for 10 years from now. Because of the shortened investment horizon (30 years to 10 years), the portfolio needs to invest more heavily in the riskier asset&mdash;that is, stock&mdash;to help accumulate wealth for retirement. \n",
    "\n",
    "- Adjust the weights of the retirement portfolio so that the composition for the Monte Carlo simulation consists of 20% bonds and 80% stocks. \n",
    "\n",
    "- Run the simulation over 500 samples, and use the same data that the API call to Alpaca generated.\n",
    "\n",
    "- Based on the new Monte Carlo simulation, answer the following questions in your Jupyter notebook:\n",
    "\n",
    "    - Using the current value of only the stock and bond portion of the member's portfolio and the summary statistics that you generated from the new Monte Carlo simulation, what are the lower and upper bounds for the expected value of the portfolio (with the new weights) with a 95% confidence interval?\n",
    "\n",
    "    - Will weighting the portfolio more heavily toward stocks allow the credit union members to retire after only 10 years?\n"
   ]
  },
  {
   "cell_type": "code",
   "execution_count": 99,
   "metadata": {},
   "outputs": [
    {
     "data": {
      "text/html": [
       "<div>\n",
       "<style scoped>\n",
       "    .dataframe tbody tr th:only-of-type {\n",
       "        vertical-align: middle;\n",
       "    }\n",
       "\n",
       "    .dataframe tbody tr th {\n",
       "        vertical-align: top;\n",
       "    }\n",
       "\n",
       "    .dataframe thead tr th {\n",
       "        text-align: left;\n",
       "    }\n",
       "</style>\n",
       "<table border=\"1\" class=\"dataframe\">\n",
       "  <thead>\n",
       "    <tr>\n",
       "      <th></th>\n",
       "      <th colspan=\"6\" halign=\"left\">AGG</th>\n",
       "      <th colspan=\"6\" halign=\"left\">SPY</th>\n",
       "    </tr>\n",
       "    <tr>\n",
       "      <th></th>\n",
       "      <th>open</th>\n",
       "      <th>high</th>\n",
       "      <th>low</th>\n",
       "      <th>close</th>\n",
       "      <th>volume</th>\n",
       "      <th>daily_return</th>\n",
       "      <th>open</th>\n",
       "      <th>high</th>\n",
       "      <th>low</th>\n",
       "      <th>close</th>\n",
       "      <th>volume</th>\n",
       "      <th>daily_return</th>\n",
       "    </tr>\n",
       "  </thead>\n",
       "  <tbody>\n",
       "    <tr>\n",
       "      <th>2018-12-31</th>\n",
       "      <td>106.12</td>\n",
       "      <td>106.510</td>\n",
       "      <td>105.6200</td>\n",
       "      <td>106.495</td>\n",
       "      <td>8349838.0</td>\n",
       "      <td>NaN</td>\n",
       "      <td>249.56</td>\n",
       "      <td>250.16</td>\n",
       "      <td>247.47</td>\n",
       "      <td>248.55</td>\n",
       "      <td>100767777</td>\n",
       "      <td>NaN</td>\n",
       "    </tr>\n",
       "    <tr>\n",
       "      <th>2019-01-02</th>\n",
       "      <td>106.55</td>\n",
       "      <td>106.610</td>\n",
       "      <td>106.4701</td>\n",
       "      <td>106.585</td>\n",
       "      <td>10164756.0</td>\n",
       "      <td>0.000845</td>\n",
       "      <td>245.98</td>\n",
       "      <td>251.21</td>\n",
       "      <td>245.95</td>\n",
       "      <td>249.89</td>\n",
       "      <td>107236613</td>\n",
       "      <td>0.005391</td>\n",
       "    </tr>\n",
       "    <tr>\n",
       "      <th>2019-01-03</th>\n",
       "      <td>106.57</td>\n",
       "      <td>107.075</td>\n",
       "      <td>106.5700</td>\n",
       "      <td>107.020</td>\n",
       "      <td>6260265.0</td>\n",
       "      <td>0.004081</td>\n",
       "      <td>248.23</td>\n",
       "      <td>248.57</td>\n",
       "      <td>244.03</td>\n",
       "      <td>244.46</td>\n",
       "      <td>113782919</td>\n",
       "      <td>-0.021730</td>\n",
       "    </tr>\n",
       "    <tr>\n",
       "      <th>2019-01-04</th>\n",
       "      <td>106.66</td>\n",
       "      <td>106.720</td>\n",
       "      <td>106.5500</td>\n",
       "      <td>106.695</td>\n",
       "      <td>7755476.0</td>\n",
       "      <td>-0.003037</td>\n",
       "      <td>247.59</td>\n",
       "      <td>253.11</td>\n",
       "      <td>247.17</td>\n",
       "      <td>252.41</td>\n",
       "      <td>122528832</td>\n",
       "      <td>0.032521</td>\n",
       "    </tr>\n",
       "    <tr>\n",
       "      <th>2019-01-07</th>\n",
       "      <td>106.72</td>\n",
       "      <td>106.790</td>\n",
       "      <td>106.4600</td>\n",
       "      <td>106.470</td>\n",
       "      <td>6545877.0</td>\n",
       "      <td>-0.002109</td>\n",
       "      <td>252.69</td>\n",
       "      <td>255.95</td>\n",
       "      <td>251.69</td>\n",
       "      <td>254.40</td>\n",
       "      <td>88317608</td>\n",
       "      <td>0.007884</td>\n",
       "    </tr>\n",
       "  </tbody>\n",
       "</table>\n",
       "</div>"
      ],
      "text/plain": [
       "               AGG                                                       \\\n",
       "              open     high       low    close      volume daily_return   \n",
       "2018-12-31  106.12  106.510  105.6200  106.495   8349838.0          NaN   \n",
       "2019-01-02  106.55  106.610  106.4701  106.585  10164756.0     0.000845   \n",
       "2019-01-03  106.57  107.075  106.5700  107.020   6260265.0     0.004081   \n",
       "2019-01-04  106.66  106.720  106.5500  106.695   7755476.0    -0.003037   \n",
       "2019-01-07  106.72  106.790  106.4600  106.470   6545877.0    -0.002109   \n",
       "\n",
       "               SPY                                                  \n",
       "              open    high     low   close     volume daily_return  \n",
       "2018-12-31  249.56  250.16  247.47  248.55  100767777          NaN  \n",
       "2019-01-02  245.98  251.21  245.95  249.89  107236613     0.005391  \n",
       "2019-01-03  248.23  248.57  244.03  244.46  113782919    -0.021730  \n",
       "2019-01-04  247.59  253.11  247.17  252.41  122528832     0.032521  \n",
       "2019-01-07  252.69  255.95  251.69  254.40   88317608     0.007884  "
      ]
     },
     "execution_count": 99,
     "metadata": {},
     "output_type": "execute_result"
    }
   ],
   "source": [
    "Monte_Carlo_10 = MCSimulation(\n",
    "    portfolio_data=prices_df,\n",
    "    weights=[0.2, 0.8],\n",
    "    num_simulation=500,\n",
    "    num_trading_days=252*10\n",
    ")\n",
    "\n",
    "Monte_Carlo_10.portfolio_data.head()"
   ]
  },
  {
   "cell_type": "code",
   "execution_count": 100,
   "metadata": {},
   "outputs": [
    {
     "name": "stdout",
     "output_type": "stream",
     "text": [
      "Running Monte Carlo simulation number 0.\n",
      "Running Monte Carlo simulation number 10.\n",
      "Running Monte Carlo simulation number 20.\n",
      "Running Monte Carlo simulation number 30.\n",
      "Running Monte Carlo simulation number 40.\n",
      "Running Monte Carlo simulation number 50.\n",
      "Running Monte Carlo simulation number 60.\n",
      "Running Monte Carlo simulation number 70.\n",
      "Running Monte Carlo simulation number 80.\n",
      "Running Monte Carlo simulation number 90.\n",
      "Running Monte Carlo simulation number 100.\n",
      "Running Monte Carlo simulation number 110.\n",
      "Running Monte Carlo simulation number 120.\n",
      "Running Monte Carlo simulation number 130.\n",
      "Running Monte Carlo simulation number 140.\n",
      "Running Monte Carlo simulation number 150.\n",
      "Running Monte Carlo simulation number 160.\n",
      "Running Monte Carlo simulation number 170.\n",
      "Running Monte Carlo simulation number 180.\n",
      "Running Monte Carlo simulation number 190.\n",
      "Running Monte Carlo simulation number 200.\n",
      "Running Monte Carlo simulation number 210.\n",
      "Running Monte Carlo simulation number 220.\n",
      "Running Monte Carlo simulation number 230.\n",
      "Running Monte Carlo simulation number 240.\n",
      "Running Monte Carlo simulation number 250.\n",
      "Running Monte Carlo simulation number 260.\n",
      "Running Monte Carlo simulation number 270.\n",
      "Running Monte Carlo simulation number 280.\n",
      "Running Monte Carlo simulation number 290.\n",
      "Running Monte Carlo simulation number 300.\n",
      "Running Monte Carlo simulation number 310.\n",
      "Running Monte Carlo simulation number 320.\n",
      "Running Monte Carlo simulation number 330.\n",
      "Running Monte Carlo simulation number 340.\n",
      "Running Monte Carlo simulation number 350.\n",
      "Running Monte Carlo simulation number 360.\n",
      "Running Monte Carlo simulation number 370.\n",
      "Running Monte Carlo simulation number 380.\n",
      "Running Monte Carlo simulation number 390.\n",
      "Running Monte Carlo simulation number 400.\n",
      "Running Monte Carlo simulation number 410.\n",
      "Running Monte Carlo simulation number 420.\n",
      "Running Monte Carlo simulation number 430.\n",
      "Running Monte Carlo simulation number 440.\n",
      "Running Monte Carlo simulation number 450.\n",
      "Running Monte Carlo simulation number 460.\n",
      "Running Monte Carlo simulation number 470.\n",
      "Running Monte Carlo simulation number 480.\n",
      "Running Monte Carlo simulation number 490.\n"
     ]
    },
    {
     "data": {
      "text/html": [
       "<div>\n",
       "<style scoped>\n",
       "    .dataframe tbody tr th:only-of-type {\n",
       "        vertical-align: middle;\n",
       "    }\n",
       "\n",
       "    .dataframe tbody tr th {\n",
       "        vertical-align: top;\n",
       "    }\n",
       "\n",
       "    .dataframe thead th {\n",
       "        text-align: right;\n",
       "    }\n",
       "</style>\n",
       "<table border=\"1\" class=\"dataframe\">\n",
       "  <thead>\n",
       "    <tr style=\"text-align: right;\">\n",
       "      <th></th>\n",
       "      <th>0</th>\n",
       "      <th>1</th>\n",
       "      <th>2</th>\n",
       "      <th>3</th>\n",
       "      <th>4</th>\n",
       "      <th>5</th>\n",
       "      <th>6</th>\n",
       "      <th>7</th>\n",
       "      <th>8</th>\n",
       "      <th>9</th>\n",
       "      <th>...</th>\n",
       "      <th>490</th>\n",
       "      <th>491</th>\n",
       "      <th>492</th>\n",
       "      <th>493</th>\n",
       "      <th>494</th>\n",
       "      <th>495</th>\n",
       "      <th>496</th>\n",
       "      <th>497</th>\n",
       "      <th>498</th>\n",
       "      <th>499</th>\n",
       "    </tr>\n",
       "  </thead>\n",
       "  <tbody>\n",
       "    <tr>\n",
       "      <th>0</th>\n",
       "      <td>1.000000</td>\n",
       "      <td>1.000000</td>\n",
       "      <td>1.000000</td>\n",
       "      <td>1.000000</td>\n",
       "      <td>1.000000</td>\n",
       "      <td>1.000000</td>\n",
       "      <td>1.000000</td>\n",
       "      <td>1.000000</td>\n",
       "      <td>1.000000</td>\n",
       "      <td>1.000000</td>\n",
       "      <td>...</td>\n",
       "      <td>1.000000</td>\n",
       "      <td>1.000000</td>\n",
       "      <td>1.000000</td>\n",
       "      <td>1.000000</td>\n",
       "      <td>1.000000</td>\n",
       "      <td>1.000000</td>\n",
       "      <td>1.000000</td>\n",
       "      <td>1.000000</td>\n",
       "      <td>1.000000</td>\n",
       "      <td>1.000000</td>\n",
       "    </tr>\n",
       "    <tr>\n",
       "      <th>1</th>\n",
       "      <td>0.993922</td>\n",
       "      <td>0.996675</td>\n",
       "      <td>0.990660</td>\n",
       "      <td>1.008474</td>\n",
       "      <td>1.016377</td>\n",
       "      <td>0.993121</td>\n",
       "      <td>1.010774</td>\n",
       "      <td>1.001009</td>\n",
       "      <td>1.027076</td>\n",
       "      <td>1.024038</td>\n",
       "      <td>...</td>\n",
       "      <td>0.994183</td>\n",
       "      <td>0.996087</td>\n",
       "      <td>1.026022</td>\n",
       "      <td>1.003171</td>\n",
       "      <td>1.021479</td>\n",
       "      <td>0.987805</td>\n",
       "      <td>0.985949</td>\n",
       "      <td>0.998974</td>\n",
       "      <td>1.000212</td>\n",
       "      <td>1.002680</td>\n",
       "    </tr>\n",
       "    <tr>\n",
       "      <th>2</th>\n",
       "      <td>1.002223</td>\n",
       "      <td>1.009206</td>\n",
       "      <td>0.988370</td>\n",
       "      <td>1.005216</td>\n",
       "      <td>1.018638</td>\n",
       "      <td>0.990570</td>\n",
       "      <td>1.009693</td>\n",
       "      <td>0.982778</td>\n",
       "      <td>1.025118</td>\n",
       "      <td>1.049451</td>\n",
       "      <td>...</td>\n",
       "      <td>0.988896</td>\n",
       "      <td>0.986806</td>\n",
       "      <td>1.017105</td>\n",
       "      <td>1.012362</td>\n",
       "      <td>1.038473</td>\n",
       "      <td>0.986778</td>\n",
       "      <td>0.984588</td>\n",
       "      <td>0.990232</td>\n",
       "      <td>0.990699</td>\n",
       "      <td>1.000052</td>\n",
       "    </tr>\n",
       "    <tr>\n",
       "      <th>3</th>\n",
       "      <td>0.998251</td>\n",
       "      <td>1.003119</td>\n",
       "      <td>0.987178</td>\n",
       "      <td>0.996758</td>\n",
       "      <td>1.017868</td>\n",
       "      <td>1.014498</td>\n",
       "      <td>1.006416</td>\n",
       "      <td>0.962241</td>\n",
       "      <td>1.023096</td>\n",
       "      <td>1.055504</td>\n",
       "      <td>...</td>\n",
       "      <td>0.982999</td>\n",
       "      <td>0.963215</td>\n",
       "      <td>1.013226</td>\n",
       "      <td>1.016096</td>\n",
       "      <td>1.015961</td>\n",
       "      <td>0.961936</td>\n",
       "      <td>0.973060</td>\n",
       "      <td>0.975913</td>\n",
       "      <td>0.975915</td>\n",
       "      <td>0.999564</td>\n",
       "    </tr>\n",
       "    <tr>\n",
       "      <th>4</th>\n",
       "      <td>0.998458</td>\n",
       "      <td>1.013571</td>\n",
       "      <td>0.991564</td>\n",
       "      <td>1.009093</td>\n",
       "      <td>1.010520</td>\n",
       "      <td>0.995779</td>\n",
       "      <td>1.012203</td>\n",
       "      <td>0.957753</td>\n",
       "      <td>1.004759</td>\n",
       "      <td>1.075155</td>\n",
       "      <td>...</td>\n",
       "      <td>0.995088</td>\n",
       "      <td>0.970463</td>\n",
       "      <td>1.024884</td>\n",
       "      <td>1.020144</td>\n",
       "      <td>1.046467</td>\n",
       "      <td>0.967912</td>\n",
       "      <td>0.980533</td>\n",
       "      <td>0.984409</td>\n",
       "      <td>0.963576</td>\n",
       "      <td>1.003634</td>\n",
       "    </tr>\n",
       "    <tr>\n",
       "      <th>...</th>\n",
       "      <td>...</td>\n",
       "      <td>...</td>\n",
       "      <td>...</td>\n",
       "      <td>...</td>\n",
       "      <td>...</td>\n",
       "      <td>...</td>\n",
       "      <td>...</td>\n",
       "      <td>...</td>\n",
       "      <td>...</td>\n",
       "      <td>...</td>\n",
       "      <td>...</td>\n",
       "      <td>...</td>\n",
       "      <td>...</td>\n",
       "      <td>...</td>\n",
       "      <td>...</td>\n",
       "      <td>...</td>\n",
       "      <td>...</td>\n",
       "      <td>...</td>\n",
       "      <td>...</td>\n",
       "      <td>...</td>\n",
       "      <td>...</td>\n",
       "    </tr>\n",
       "    <tr>\n",
       "      <th>2516</th>\n",
       "      <td>12.530835</td>\n",
       "      <td>12.388278</td>\n",
       "      <td>5.006986</td>\n",
       "      <td>21.186514</td>\n",
       "      <td>14.678428</td>\n",
       "      <td>5.530856</td>\n",
       "      <td>5.322712</td>\n",
       "      <td>4.085226</td>\n",
       "      <td>6.818378</td>\n",
       "      <td>4.592498</td>\n",
       "      <td>...</td>\n",
       "      <td>7.837037</td>\n",
       "      <td>2.326256</td>\n",
       "      <td>31.369443</td>\n",
       "      <td>11.175827</td>\n",
       "      <td>8.793112</td>\n",
       "      <td>4.540002</td>\n",
       "      <td>5.103349</td>\n",
       "      <td>7.577009</td>\n",
       "      <td>2.862711</td>\n",
       "      <td>2.673390</td>\n",
       "    </tr>\n",
       "    <tr>\n",
       "      <th>2517</th>\n",
       "      <td>12.499572</td>\n",
       "      <td>12.271478</td>\n",
       "      <td>5.027008</td>\n",
       "      <td>21.388982</td>\n",
       "      <td>14.783531</td>\n",
       "      <td>5.496215</td>\n",
       "      <td>5.336083</td>\n",
       "      <td>4.054645</td>\n",
       "      <td>6.794895</td>\n",
       "      <td>4.642477</td>\n",
       "      <td>...</td>\n",
       "      <td>7.917268</td>\n",
       "      <td>2.361021</td>\n",
       "      <td>30.767630</td>\n",
       "      <td>11.215982</td>\n",
       "      <td>8.764373</td>\n",
       "      <td>4.673657</td>\n",
       "      <td>5.032969</td>\n",
       "      <td>7.610883</td>\n",
       "      <td>2.867124</td>\n",
       "      <td>2.724035</td>\n",
       "    </tr>\n",
       "    <tr>\n",
       "      <th>2518</th>\n",
       "      <td>12.632205</td>\n",
       "      <td>12.420925</td>\n",
       "      <td>4.951095</td>\n",
       "      <td>21.053177</td>\n",
       "      <td>14.629409</td>\n",
       "      <td>5.492516</td>\n",
       "      <td>5.178735</td>\n",
       "      <td>4.044445</td>\n",
       "      <td>6.791027</td>\n",
       "      <td>4.665373</td>\n",
       "      <td>...</td>\n",
       "      <td>7.764856</td>\n",
       "      <td>2.339232</td>\n",
       "      <td>30.711800</td>\n",
       "      <td>11.249457</td>\n",
       "      <td>8.759615</td>\n",
       "      <td>4.616909</td>\n",
       "      <td>5.045515</td>\n",
       "      <td>7.843318</td>\n",
       "      <td>2.854077</td>\n",
       "      <td>2.730494</td>\n",
       "    </tr>\n",
       "    <tr>\n",
       "      <th>2519</th>\n",
       "      <td>12.705929</td>\n",
       "      <td>12.435968</td>\n",
       "      <td>4.926706</td>\n",
       "      <td>20.859885</td>\n",
       "      <td>14.703778</td>\n",
       "      <td>5.603425</td>\n",
       "      <td>5.169672</td>\n",
       "      <td>4.159051</td>\n",
       "      <td>6.755044</td>\n",
       "      <td>4.746075</td>\n",
       "      <td>...</td>\n",
       "      <td>7.744435</td>\n",
       "      <td>2.309760</td>\n",
       "      <td>30.912277</td>\n",
       "      <td>11.271627</td>\n",
       "      <td>8.718329</td>\n",
       "      <td>4.581353</td>\n",
       "      <td>5.034423</td>\n",
       "      <td>7.726146</td>\n",
       "      <td>2.832879</td>\n",
       "      <td>2.750740</td>\n",
       "    </tr>\n",
       "    <tr>\n",
       "      <th>2520</th>\n",
       "      <td>12.760393</td>\n",
       "      <td>12.609201</td>\n",
       "      <td>4.913863</td>\n",
       "      <td>20.570422</td>\n",
       "      <td>14.725369</td>\n",
       "      <td>5.652561</td>\n",
       "      <td>5.129848</td>\n",
       "      <td>4.112718</td>\n",
       "      <td>6.685545</td>\n",
       "      <td>4.674270</td>\n",
       "      <td>...</td>\n",
       "      <td>7.779813</td>\n",
       "      <td>2.341101</td>\n",
       "      <td>30.665566</td>\n",
       "      <td>11.542649</td>\n",
       "      <td>8.774911</td>\n",
       "      <td>4.690128</td>\n",
       "      <td>4.942603</td>\n",
       "      <td>7.745887</td>\n",
       "      <td>2.850550</td>\n",
       "      <td>2.744925</td>\n",
       "    </tr>\n",
       "  </tbody>\n",
       "</table>\n",
       "<p>2521 rows × 500 columns</p>\n",
       "</div>"
      ],
      "text/plain": [
       "            0          1         2          3          4         5    \\\n",
       "0      1.000000   1.000000  1.000000   1.000000   1.000000  1.000000   \n",
       "1      0.993922   0.996675  0.990660   1.008474   1.016377  0.993121   \n",
       "2      1.002223   1.009206  0.988370   1.005216   1.018638  0.990570   \n",
       "3      0.998251   1.003119  0.987178   0.996758   1.017868  1.014498   \n",
       "4      0.998458   1.013571  0.991564   1.009093   1.010520  0.995779   \n",
       "...         ...        ...       ...        ...        ...       ...   \n",
       "2516  12.530835  12.388278  5.006986  21.186514  14.678428  5.530856   \n",
       "2517  12.499572  12.271478  5.027008  21.388982  14.783531  5.496215   \n",
       "2518  12.632205  12.420925  4.951095  21.053177  14.629409  5.492516   \n",
       "2519  12.705929  12.435968  4.926706  20.859885  14.703778  5.603425   \n",
       "2520  12.760393  12.609201  4.913863  20.570422  14.725369  5.652561   \n",
       "\n",
       "           6         7         8         9    ...       490       491  \\\n",
       "0     1.000000  1.000000  1.000000  1.000000  ...  1.000000  1.000000   \n",
       "1     1.010774  1.001009  1.027076  1.024038  ...  0.994183  0.996087   \n",
       "2     1.009693  0.982778  1.025118  1.049451  ...  0.988896  0.986806   \n",
       "3     1.006416  0.962241  1.023096  1.055504  ...  0.982999  0.963215   \n",
       "4     1.012203  0.957753  1.004759  1.075155  ...  0.995088  0.970463   \n",
       "...        ...       ...       ...       ...  ...       ...       ...   \n",
       "2516  5.322712  4.085226  6.818378  4.592498  ...  7.837037  2.326256   \n",
       "2517  5.336083  4.054645  6.794895  4.642477  ...  7.917268  2.361021   \n",
       "2518  5.178735  4.044445  6.791027  4.665373  ...  7.764856  2.339232   \n",
       "2519  5.169672  4.159051  6.755044  4.746075  ...  7.744435  2.309760   \n",
       "2520  5.129848  4.112718  6.685545  4.674270  ...  7.779813  2.341101   \n",
       "\n",
       "            492        493       494       495       496       497       498  \\\n",
       "0      1.000000   1.000000  1.000000  1.000000  1.000000  1.000000  1.000000   \n",
       "1      1.026022   1.003171  1.021479  0.987805  0.985949  0.998974  1.000212   \n",
       "2      1.017105   1.012362  1.038473  0.986778  0.984588  0.990232  0.990699   \n",
       "3      1.013226   1.016096  1.015961  0.961936  0.973060  0.975913  0.975915   \n",
       "4      1.024884   1.020144  1.046467  0.967912  0.980533  0.984409  0.963576   \n",
       "...         ...        ...       ...       ...       ...       ...       ...   \n",
       "2516  31.369443  11.175827  8.793112  4.540002  5.103349  7.577009  2.862711   \n",
       "2517  30.767630  11.215982  8.764373  4.673657  5.032969  7.610883  2.867124   \n",
       "2518  30.711800  11.249457  8.759615  4.616909  5.045515  7.843318  2.854077   \n",
       "2519  30.912277  11.271627  8.718329  4.581353  5.034423  7.726146  2.832879   \n",
       "2520  30.665566  11.542649  8.774911  4.690128  4.942603  7.745887  2.850550   \n",
       "\n",
       "           499  \n",
       "0     1.000000  \n",
       "1     1.002680  \n",
       "2     1.000052  \n",
       "3     0.999564  \n",
       "4     1.003634  \n",
       "...        ...  \n",
       "2516  2.673390  \n",
       "2517  2.724035  \n",
       "2518  2.730494  \n",
       "2519  2.750740  \n",
       "2520  2.744925  \n",
       "\n",
       "[2521 rows x 500 columns]"
      ]
     },
     "execution_count": 100,
     "metadata": {},
     "output_type": "execute_result"
    }
   ],
   "source": [
    "Monte_Carlo_10.calc_cumulative_return()"
   ]
  },
  {
   "cell_type": "code",
   "execution_count": 101,
   "metadata": {},
   "outputs": [
    {
     "data": {
      "image/png": "[encoded data removed]",
      "text/plain": [
       "<Figure size 432x288 with 1 Axes>"
      ]
     },
     "metadata": {
      "needs_background": "light"
     },
     "output_type": "display_data"
    }
   ],
   "source": [
    "Monte_Carlo_10_line_plot = Monte_Carlo_10.plot_simulation()"
   ]
  },
  {
   "cell_type": "code",
   "execution_count": 102,
   "metadata": {},
   "outputs": [
    {
     "data": {
      "image/png": "[encoded data removed]",
      "text/plain": [
       "<Figure size 432x288 with 1 Axes>"
      ]
     },
     "metadata": {
      "needs_background": "light"
     },
     "output_type": "display_data"
    }
   ],
   "source": [
    "Monte_Carlo_10_dist_plot = Monte_Carlo_10.plot_distribution()"
   ]
  },
  {
   "cell_type": "code",
   "execution_count": 103,
   "metadata": {},
   "outputs": [
    {
     "data": {
      "text/plain": [
       "count           500.000000\n",
       "mean              6.897207\n",
       "std               4.320853\n",
       "min               1.050324\n",
       "25%               4.045098\n",
       "50%               5.822766\n",
       "75%               8.655377\n",
       "max              32.871097\n",
       "95% CI Lower      1.838071\n",
       "95% CI Upper     18.812225\n",
       "Name: 2520, dtype: float64"
      ]
     },
     "execution_count": 103,
     "metadata": {},
     "output_type": "execute_result"
    }
   ],
   "source": [
    "Monte_Carlo_10_table = Monte_Carlo_10.summarize_cumulative_return()\n",
    "Monte_Carlo_10_table"
   ]
  },
  {
   "cell_type": "markdown",
   "metadata": {},
   "source": [
    "### Answer the following questions:"
   ]
  },
  {
   "cell_type": "markdown",
   "metadata": {},
   "source": [
    "#### Question: Using the current value of only the stock and bond portion of the member's portfolio and the summary statistics that you generated from the new Monte Carlo simulation, what are the lower and upper bounds for the expected value of the portfolio (with the new weights) with a 95% confidence interval?"
   ]
  },
  {
   "cell_type": "code",
   "execution_count": 104,
   "metadata": {},
   "outputs": [
    {
     "name": "stdout",
     "output_type": "stream",
     "text": [
      "Stock & Bond Portfolio Current Value: $75,055.90\n"
     ]
    }
   ],
   "source": [
    "print(f\"Stock & Bond Portfolio Current Value: ${total_stocks_bonds:,.2f}\")"
   ]
  },
  {
   "cell_type": "code",
   "execution_count": 105,
   "metadata": {},
   "outputs": [
    {
     "name": "stdout",
     "output_type": "stream",
     "text": [
      "There is a 95% chance that the Stocks and Bonds Portfolio, currently worth $75,055.90, will be valued between $137,958.06 and $1,411,968.45 within 10 years.\n"
     ]
    }
   ],
   "source": [
    "ci_lower_ten_cumulative_return = Monte_Carlo_10_table[8] * total_stocks_bonds\n",
    "ci_upper_ten_cumulative_return = Monte_Carlo_10_table[9] * total_stocks_bonds\n",
    "\n",
    "print(f\"There is a 95% chance that the Stocks and Bonds Portfolio, currently worth ${total_stocks_bonds:,.2f}, \"\n",
    "      f\"will be valued between ${ci_lower_ten_cumulative_return:,.2f} and ${ci_upper_ten_cumulative_return:,.2f} within 10 years.\")\n"
   ]
  },
  {
   "cell_type": "markdown",
   "metadata": {},
   "source": [
    "#### Question: Will weighting the portfolio more heavily to stocks allow the credit union members to retire after only 10 years?"
   ]
  },
  {
   "cell_type": "markdown",
   "metadata": {},
   "source": [
    "## Answer:"
   ]
  },
  {
   "cell_type": "markdown",
   "metadata": {},
   "source": [
    "#### Technically, the extreme high-end of the 10-year analysis barely surpasses the low end of the 30-year analysis, therefore there isn't much justification for retiring after only 10 years. Unfortunately, we do not know the yearly expenses of the family in question, therefore we cannot say for sure what value is required for a safe retirement to begin with. According to the IRS, the current yearly expense of a family of 4 living in Chicago is just over $88,000. Using this value as a benchmark, retiring after only 10 years would be a risky decision. A period of 30 years would allow for a less aggressive investing strategy along with a substantially higher low-end figure. "
   ]
  }
 ],
 "metadata": {
  "kernelspec": {
   "display_name": "Python (dev)",
   "language": "python",
   "name": "dev"
  },
  "language_info": {
   "codemirror_mode": {
    "name": "ipython",
    "version": 3
   },
   "file_extension": ".py",
   "mimetype": "text/x-python",
   "name": "python",
   "nbconvert_exporter": "python",
   "pygments_lexer": "ipython3",
   "version": "3.7.10"
  }
 },
 "nbformat": 4,
 "nbformat_minor": 4
}
